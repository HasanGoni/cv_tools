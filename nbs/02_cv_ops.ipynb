{
 "cells": [
  {
   "cell_type": "markdown",
   "metadata": {},
   "source": [
    "# Computer vision operation"
   ]
  },
  {
   "cell_type": "markdown",
   "metadata": {},
   "source": [
    "> Different computer vision operations will be implemented here"
   ]
  },
  {
   "cell_type": "code",
   "execution_count": null,
   "metadata": {},
   "outputs": [],
   "source": [
    "#| default_exp cv_ops"
   ]
  },
  {
   "cell_type": "code",
   "execution_count": 2,
   "metadata": {},
   "outputs": [],
   "source": [
    "#| export\n",
    "import pandas as pd\n",
    "from pathlib import Path\n",
    "import numpy as np\n",
    "from tqdm import tqdm\n",
    "from fastcore.all import *\n",
    "import matplotlib as mpl\n",
    "import matplotlib.pyplot as plt\n",
    "from fastcore.all import *\n",
    "import shutil\n",
    "import cv2\n",
    "from typing import Union, List, Tuple, Dict\n",
    "import pandas as pd\n",
    "from skimage import io, morphology, measure\n",
    "from skimage.filters import threshold_multiotsu\n",
    "from scipy.ndimage import (label, sum, binary_fill_holes)\n",
    "import os\n",
    "from tqdm.auto import tqdm\n",
    "import argparse"
   ]
  },
  {
   "cell_type": "code",
   "execution_count": 3,
   "metadata": {},
   "outputs": [],
   "source": [
    "#| hide\n",
    "from nbdev.showdoc import *"
   ]
  },
  {
   "cell_type": "code",
   "execution_count": 4,
   "metadata": {},
   "outputs": [
    {
     "data": {
      "text/plain": [
       "(#1642) [Path('/home/hasan/Schreibtisch/projects/data/microscopy/patch_train_images/img_162_p_9.png'),Path('/home/hasan/Schreibtisch/projects/data/microscopy/patch_train_images/img_11_p_9.png'),Path('/home/hasan/Schreibtisch/projects/data/microscopy/patch_train_images/img_70_p_5.png'),Path('/home/hasan/Schreibtisch/projects/data/microscopy/patch_train_images/img_67_p_1.png'),Path('/home/hasan/Schreibtisch/projects/data/microscopy/patch_train_images/img_74_p_9.png'),Path('/home/hasan/Schreibtisch/projects/data/microscopy/patch_train_images/img_16_p_5.png'),Path('/home/hasan/Schreibtisch/projects/data/microscopy/patch_train_images/img_23_p_1.png'),Path('/home/hasan/Schreibtisch/projects/data/microscopy/patch_train_images/img_112_p_6.png'),Path('/home/hasan/Schreibtisch/projects/data/microscopy/patch_train_images/img_121_p_11.png'),Path('/home/hasan/Schreibtisch/projects/data/microscopy/patch_train_images/img_152_p_1.png')...]"
      ]
     },
     "execution_count": 4,
     "metadata": {},
     "output_type": "execute_result"
    }
   ],
   "source": [
    "#| hide\n",
    "data_path=Path(r'/home/hasan/Schreibtisch/projects/data/microscopy/patch_train_images')\n",
    "data_path.ls()"
   ]
  },
  {
   "cell_type": "code",
   "execution_count": 5,
   "metadata": {},
   "outputs": [],
   "source": [
    "#| hide\n",
    "from cv_tools.core import *\n",
    "import matplotlib.pyplot as plt"
   ]
  },
  {
   "cell_type": "code",
   "execution_count": 6,
   "metadata": {},
   "outputs": [],
   "source": [
    "#| export\n",
    "def multi_otsu(img:np.array, classes:int=3)->np.array:\n",
    "    \"\"\"Multi-Otsu thresholding-> returns image of type np.uint8\"\"\"\n",
    "    thresholds = threshold_multiotsu(img, classes)\n",
    "    regions = np.digitize(img, bins=thresholds)\n",
    "    # Scale the regions to span full 8-bit range (0-255) by multiplying by 255/(num_classes-1)\n",
    "    # E.g. for 3 classes, maps [0,1,2] to [0,127,255]\n",
    "    regions = regions*(255//(classes-1))\n",
    "    return regions.astype(np.uint8)"
   ]
  },
  {
   "cell_type": "code",
   "execution_count": null,
   "metadata": {},
   "outputs": [],
   "source": [
    "#| export\n",
    "def remove_small_objects(\n",
    "        binary_mask:np.ndarray,  # np.ndarry\n",
    "        size_threshold:Union[float, int] # \n",
    "        ):\n",
    "    'From a binary mask remove small objects'\n",
    "    labeled_mask, num_labels = label(binary_mask)\n",
    "    sizes = sum(binary_mask, labeled_mask, range(num_labels + 1))\n",
    "    mask_sizes = sizes[labeled_mask]\n",
    "    binary_mask = mask_sizes > size_threshold\n",
    "    return binary_mask"
   ]
  },
  {
   "cell_type": "code",
   "execution_count": null,
   "metadata": {},
   "outputs": [],
   "source": [
    "#| export\n",
    "def fill_holes_in_objects(binary_mask):\n",
    "    'Fill holes inside binary mask'\n",
    "    filled_mask = binary_fill_holes(binary_mask)\n",
    "    return filled_mask"
   ]
  },
  {
   "cell_type": "code",
   "execution_count": null,
   "metadata": {},
   "outputs": [],
   "source": [
    "#| export\n",
    "def convert_to_rotated_rectangles(binary_mask):\n",
    "    'Convert binary mask arbitary from to  rotated rectange '\n",
    "    contours, _ = cv2.findContours(binary_mask.astype(np.uint8), cv2.RETR_EXTERNAL, cv2.CHAIN_APPROX_SIMPLE)\n",
    "    new_mask = np.zeros_like(binary_mask, dtype=np.uint8)\n",
    "    for contour in contours:\n",
    "        rect = cv2.minAreaRect(contour)\n",
    "        box = cv2.boxPoints(rect)\n",
    "        box = np.intp(box)\n",
    "        cv2.drawContours(new_mask, [box], 0, (1), -1)\n",
    "    return new_mask"
   ]
  },
  {
   "cell_type": "code",
   "execution_count": null,
   "metadata": {},
   "outputs": [],
   "source": [
    "#| hide\n",
    "import nbdev; nbdev.nbdev_export()"
   ]
  },
  {
   "cell_type": "code",
   "execution_count": null,
   "metadata": {},
   "outputs": [],
   "source": []
  }
 ],
 "metadata": {
  "kernelspec": {
   "display_name": "python3",
   "language": "python",
   "name": "python3"
  },
  "language_info": {
   "codemirror_mode": {
    "name": "ipython",
    "version": 3
   },
   "file_extension": ".py",
   "mimetype": "text/x-python",
   "name": "python",
   "nbconvert_exporter": "python",
   "pygments_lexer": "ipython3",
   "version": "3.11.0"
  }
 },
 "nbformat": 4,
 "nbformat_minor": 2
}
