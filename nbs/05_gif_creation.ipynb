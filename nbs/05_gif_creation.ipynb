{
 "cells": [
  {
   "cell_type": "code",
   "execution_count": null,
   "metadata": {},
   "outputs": [],
   "source": [
    "# GIF creation"
   ]
  },
  {
   "cell_type": "markdown",
   "metadata": {},
   "source": [
    "> GIF creation is a simple script that creates a GIF from a set of images."
   ]
  },
  {
   "cell_type": "code",
   "execution_count": null,
   "metadata": {},
   "outputs": [],
   "source": [
    "#| default_exp gif_creation"
   ]
  },
  {
   "cell_type": "code",
   "execution_count": null,
   "metadata": {},
   "outputs": [],
   "source": [
    "#| export\n",
    "import pyautogui\n",
    "import time\n",
    "import subprocess\n",
    "import matplotlib.pyplot as plt\n",
    "import numpy as np\n",
    "from platform import system\n",
    "import sys\n",
    "import os\n",
    "from nbdev.showdoc import show_doc\n",
    "from fastcore.imports import *"
   ]
  },
  {
   "cell_type": "code",
   "execution_count": null,
   "metadata": {},
   "outputs": [],
   "source": [
    "#| export\n",
    "def create_and_show_plot():\n",
    "    x = np.linspace(0, 10, 100)\n",
    "    y = np.sin(x)\n",
    "    plt.plot(x, y)\n",
    "    plt.title(\"Sine Wave\")\n",
    "    plt.xlabel(\"X\")\n",
    "    plt.ylabel(\"Y\")\n",
    "    plt.show(block=False)  # non-blocking display"
   ]
  },
  {
   "cell_type": "code",
   "execution_count": null,
   "metadata": {},
   "outputs": [],
   "source": [
    "#| export\n",
    "def check_and_install_recorder():\n",
    "    ' Checking whether Peek or ScreenToGif is installed and returning the name of the installed recorder'\n",
    "    system = system()\n",
    "    if system == \"Linux\":\n",
    "        try:\n",
    "            subprocess.run([\"peek\", \"--version\"], check=True, stdout=subprocess.DEVNULL, stderr=subprocess.DEVNULL)\n",
    "            return \"peek\"\n",
    "        except subprocess.CalledProcessError:\n",
    "            print(\"Peek is not installed. Please install it using the following commands:\")\n",
    "            print(\"sudo add-apt-repository ppa:peek-developers/stable\")\n",
    "            print(\"sudo apt update\")\n",
    "            print(\"sudo apt install peek\")\n",
    "            sys.exit(1)\n",
    "    elif system == \"Windows\":\n",
    "        try:\n",
    "            subprocess.run([\"where\", \"screentogif\"], check=True, stdout=subprocess.DEVNULL, stderr=subprocess.DEVNULL)\n",
    "            return \"screentogif\"\n",
    "        except subprocess.CalledProcessError:\n",
    "            print(\"ScreenToGif is not installed. Please download and install it from:\")\n",
    "            print(\"https://www.screentogif.com/\")\n",
    "            print(\"After installation, make sure it's added to your system PATH.\")\n",
    "            sys.exit(1)\n",
    "    else:\n",
    "        print(f\"Unsupported operating system: {system}\")\n",
    "        sys.exit(1)"
   ]
  },
  {
   "cell_type": "code",
   "execution_count": null,
   "metadata": {},
   "outputs": [
    {
     "data": {
      "text/markdown": [
       "---\n",
       "\n",
       "### check_and_install_recorder\n",
       "\n",
       ">      check_and_install_recorder ()\n",
       "\n",
       "*Checking whether Peek or ScreenToGif is installed and returning the name of the installed recorder*"
      ],
      "text/plain": [
       "---\n",
       "\n",
       "### check_and_install_recorder\n",
       "\n",
       ">      check_and_install_recorder ()\n",
       "\n",
       "*Checking whether Peek or ScreenToGif is installed and returning the name of the installed recorder*"
      ]
     },
     "execution_count": null,
     "metadata": {},
     "output_type": "execute_result"
    }
   ],
   "source": [
    "show_doc(check_and_install_recorder)"
   ]
  },
  {
   "cell_type": "code",
   "execution_count": null,
   "metadata": {},
   "outputs": [],
   "source": [
    "#| export\n",
    "def record_with_peek(\n",
    "        script_name:str,  # Name of the Python script to be executed\n",
    "        duration:int, # Duration of the recording\n",
    "        output_name:str # Name of the output file\n",
    "        ):\n",
    "    'Recording the execution of a Python script using Peek'\n",
    "    peek_process = subprocess.Popen([\"peek\"])\n",
    "    time.sleep(2)\n",
    "\n",
    "    pyautogui.click(x=100, y=100)  # Start recording\n",
    "    \n",
    "    subprocess.Popen([\"python3\", script_name])\n",
    "    \n",
    "    time.sleep(duration)\n",
    "\n",
    "    pyautogui.click(x=100, y=100)  # Stop recording\n",
    "    \n",
    "    pyautogui.click(x=150, y=100)  # Save recording\n",
    "    time.sleep(1)\n",
    "    pyautogui.write(output_name)\n",
    "    pyautogui.press('enter')\n",
    "\n",
    "    peek_process.terminate()\n",
    "\n",
    "    print(f\"Recording saved as {output_name}\")"
   ]
  },
  {
   "cell_type": "code",
   "execution_count": null,
   "metadata": {},
   "outputs": [
    {
     "data": {
      "text/markdown": [
       "---\n",
       "\n",
       "### record_with_peek\n",
       "\n",
       ">      record_with_peek (script_name:str, duration:int, output_name:str)\n",
       "\n",
       "*Recording the execution of a Python script using Peek*\n",
       "\n",
       "|    | **Type** | **Details** |\n",
       "| -- | -------- | ----------- |\n",
       "| script_name | str | Name of the Python script to be executed |\n",
       "| duration | int | Duration of the recording |\n",
       "| output_name | str | Name of the output file |"
      ],
      "text/plain": [
       "---\n",
       "\n",
       "### record_with_peek\n",
       "\n",
       ">      record_with_peek (script_name:str, duration:int, output_name:str)\n",
       "\n",
       "*Recording the execution of a Python script using Peek*\n",
       "\n",
       "|    | **Type** | **Details** |\n",
       "| -- | -------- | ----------- |\n",
       "| script_name | str | Name of the Python script to be executed |\n",
       "| duration | int | Duration of the recording |\n",
       "| output_name | str | Name of the output file |"
      ]
     },
     "execution_count": null,
     "metadata": {},
     "output_type": "execute_result"
    }
   ],
   "source": [
    "show_doc(record_with_peek)"
   ]
  },
  {
   "cell_type": "code",
   "execution_count": null,
   "metadata": {},
   "outputs": [],
   "source": [
    "#| export\n",
    "def record_with_screentogif(\n",
    "        script_name:str,# Name of the Python script to be executed \n",
    "        duration:int, # Duration of the recording \n",
    "        output_name:str# Name of the output file\n",
    "        ):\n",
    "    screentogif_path = \"C:\\\\Program Files\\\\ScreenToGif\\\\ScreenToGif.exe\"  # Adjust if needed\n",
    "    \n",
    "    subprocess.Popen([screentogif_path])\n",
    "    time.sleep(2)\n",
    "\n",
    "    pyautogui.hotkey('ctrl', 'shift', 'r')  # Start recording\n",
    "    \n",
    "    subprocess.Popen([\"python\", script_name])\n",
    "    \n",
    "    time.sleep(duration)\n",
    "\n",
    "    pyautogui.hotkey('ctrl', 'shift', 'r')  # Stop recording\n",
    "    \n",
    "    pyautogui.click(x=100, y=100)  # Click save button (adjust coordinates)\n",
    "    time.sleep(1)\n",
    "    pyautogui.write(output_name)\n",
    "    pyautogui.press('enter')\n",
    "\n",
    "    print(f\"Recording saved as {output_name}\")"
   ]
  },
  {
   "cell_type": "code",
   "execution_count": null,
   "metadata": {},
   "outputs": [],
   "source": [
    "#| export\n",
    "def record_screen(\n",
    "        script_name:str, \n",
    "        duration:int=10, \n",
    "        output_name:str=\"output.gif\"\n",
    "        )->None:\n",
    "    'Record Screen'\n",
    "    if not os.path.exists(script_name):\n",
    "        print(f\"Error: Script '{script_name}' not found.\")\n",
    "        return\n",
    "\n",
    "    recorder = check_and_install_recorder()\n",
    "\n",
    "    if recorder == \"peek\":\n",
    "        record_with_peek(script_name, duration, output_name)\n",
    "    elif recorder == \"screentogif\":\n",
    "        record_with_screentogif(script_name, duration, output_name)\n"
   ]
  },
  {
   "cell_type": "code",
   "execution_count": null,
   "metadata": {},
   "outputs": [],
   "source": [
    "#| hide\n",
    "import nbdev\n",
    "nbdev.nbdev_export('05_gif_creation.ipynb')"
   ]
  }
 ],
 "metadata": {
  "kernelspec": {
   "display_name": "python3",
   "language": "python",
   "name": "python3"
  }
 },
 "nbformat": 4,
 "nbformat_minor": 2
}
