{
 "cells": [
  {
   "cell_type": "code",
   "execution_count": 1,
   "metadata": {},
   "outputs": [],
   "source": [
    "#| hide\n",
    "%load_ext autoreload \n",
    "%autoreload 2"
   ]
  },
  {
   "cell_type": "code",
   "execution_count": 3,
   "metadata": {},
   "outputs": [],
   "source": [
    "#| hide\n",
    "from cv_tools.core import *\n"
   ]
  },
  {
   "cell_type": "markdown",
   "metadata": {},
   "source": [
    "# cv_tools\n",
    "\n",
    "> computer vision related tools"
   ]
  },
  {
   "cell_type": "markdown",
   "metadata": {},
   "source": [
    "This file will become your README and also the index of your documentation."
   ]
  },
  {
   "cell_type": "markdown",
   "metadata": {},
   "source": [
    "## Install"
   ]
  },
  {
   "cell_type": "markdown",
   "metadata": {},
   "source": [
    "```sh\n",
    "git clone `git@github.com:HasanGoni/cv_tools.git`\n",
    "cd cv_tools\n",
    "pip install -e . \n",
    "```\n",
    "- in case of github is not recognized with `ssh` then use\n",
    "```sh\n",
    "git clone `https://github.com/HasanGoni/cv_tools.git`\n",
    "cd cv_tools\n",
    "pip install -e .\n",
    "\n",
    "```"
   ]
  },
  {
   "cell_type": "markdown",
   "metadata": {},
   "source": [
    "## How to use"
   ]
  },
  {
   "cell_type": "markdown",
   "metadata": {},
   "source": [
    "you have a list of filenames with full path, but you are interested to get only the name of the list in a vectorize format"
   ]
  },
  {
   "cell_type": "code",
   "execution_count": 51,
   "metadata": {},
   "outputs": [],
   "source": [
    "#| hide\n",
    "from fastcore.all import *\n",
    "#from cv_tools.core import *\n",
    "import cv2\n",
    "from typing import Union, List, Any, Tuple, Dict, Callable \n",
    "from PIL import Image\n",
    "from pathlib import Path\n",
    "import numpy as np\n",
    "import matplotlib.pyplot as plt\n",
    "import matplotlib as mpl\n",
    "dpi = mpl.rcParams['figure.dpi']\n",
    "mpl.rcParams['image.cmap']='gray'"
   ]
  },
  {
   "cell_type": "code",
   "execution_count": 54,
   "metadata": {},
   "outputs": [
    {
     "data": {
      "text/plain": [
       "(#2) [Path('/home/user/Schreibtisch/projects/data/persam/mask.png'),Path('/home/user/Schreibtisch/projects/data/persam/mask_test.png')]"
      ]
     },
     "execution_count": 54,
     "metadata": {},
     "output_type": "execute_result"
    }
   ],
   "source": [
    "HOME = Path.home()\n",
    "DATA_PATH = Path(f'{HOME}/Schreibtisch/projects/data/persam')\n",
    "MASK_PATH = Path(f'{DATA_PATH}/mask.png')\n",
    "IM_PATH = Path(f'{DATA_PATH}/mask_test.png')\n",
    "DATA_PATH.ls()"
   ]
  },
  {
   "cell_type": "code",
   "execution_count": 10,
   "metadata": {},
   "outputs": [
    {
     "data": {
      "text/plain": [
       "(#4) [Path('/home/user/Schreibtisch/projects/git_data/fastsetup'),Path('/home/user/Schreibtisch/projects/git_data/fine_tune_SAM'),Path('/home/user/Schreibtisch/projects/git_data/cv_tools'),Path('/home/user/Schreibtisch/projects/git_data/labeling_test')]"
      ]
     },
     "execution_count": 10,
     "metadata": {},
     "output_type": "execute_result"
    }
   ],
   "source": [
    "path = Path(fr'{HOME}/Schreibtisch/projects/git_data')  \n",
    "path_list = path.ls()\n",
    "path_list"
   ]
  },
  {
   "cell_type": "code",
   "execution_count": 16,
   "metadata": {},
   "outputs": [
    {
     "data": {
      "text/plain": [
       "array(['fastsetup', 'fine_tune_SAM', 'cv_tools', 'labeling_test'],\n",
       "      dtype='<U13')"
      ]
     },
     "execution_count": 16,
     "metadata": {},
     "output_type": "execute_result"
    }
   ],
   "source": [
    "get_name_(path_list)"
   ]
  },
  {
   "cell_type": "markdown",
   "metadata": {},
   "source": [
    "### Reading image in PIL and opencv"
   ]
  },
  {
   "cell_type": "markdown",
   "metadata": {},
   "source": [
    "- So you have some files, sometimes you wanted read image as `opencv` and sometimes you wanted to use `PIL` to read those image"
   ]
  },
  {
   "cell_type": "code",
   "execution_count": 34,
   "metadata": {},
   "outputs": [],
   "source": [
    "# opencv image\n",
    "mask = read_img(\n",
    "    im_path = DATA_PATH.ls()[0],\n",
    "    cv=True, # if PIL image just say cv=True, \n",
    "    gray=True # in case of color image just use gray=False\n",
    ")"
   ]
  },
  {
   "cell_type": "markdown",
   "metadata": {},
   "source": [
    "In case you want to see the image"
   ]
  },
  {
   "cell_type": "code",
   "execution_count": 38,
   "metadata": {},
   "outputs": [
    {
     "data": {
      "image/png": "[encoded data removed]",
      "text/plain": [
       "<Figure size 298x298 with 1 Axes>"
      ]
     },
     "metadata": {},
     "output_type": "display_data"
    }
   ],
   "source": [
    "show_(mask)"
   ]
  },
  {
   "cell_type": "markdown",
   "metadata": {},
   "source": [
    "Same way we can see PIL image."
   ]
  },
  {
   "cell_type": "code",
   "execution_count": 42,
   "metadata": {},
   "outputs": [],
   "source": [
    "# PIL image\n",
    "mask = read_img(\n",
    "    im_path = DATA_PATH.ls()[0],\n",
    "    cv=False, \n",
    "    gray=True # in case of color image just use gray=False\n",
    ")"
   ]
  },
  {
   "cell_type": "markdown",
   "metadata": {},
   "source": [
    "PIL image doesnot need `show` method in jupyter notebook. you can just do following"
   ]
  },
  {
   "cell_type": "code",
   "execution_count": 43,
   "metadata": {},
   "outputs": [
    {
     "data": {
      "image/jpeg": "[encoded data removed]",
      "image/png": "[encoded data removed]",
      "text/plain": [
       "<PIL.PngImagePlugin.PngImageFile image mode=L size=298x298>"
      ]
     },
     "execution_count": 43,
     "metadata": {},
     "output_type": "execute_result"
    }
   ],
   "source": [
    "mask"
   ]
  },
  {
   "cell_type": "markdown",
   "metadata": {},
   "source": [
    "### Cropping your image"
   ]
  },
  {
   "cell_type": "markdown",
   "metadata": {},
   "source": [
    "- so you have an image, you want to do centercrop from this image, but you want to make sure, your image has a specific shape"
   ]
  },
  {
   "cell_type": "markdown",
   "metadata": {},
   "source": [
    "- Remember here you need PIL Image. Opencv image can be easily converted using this  `Image.fromarray` "
   ]
  },
  {
   "cell_type": "code",
   "execution_count": 44,
   "metadata": {},
   "outputs": [
    {
     "data": {
      "text/plain": [
       "(298, 298)"
      ]
     },
     "execution_count": 44,
     "metadata": {},
     "output_type": "execute_result"
    }
   ],
   "source": [
    "mask.size"
   ]
  },
  {
   "cell_type": "markdown",
   "metadata": {},
   "source": [
    "our mask has a shape of `298,298`, lets centercrop it and make sure it has a shape of `256,256`"
   ]
  },
  {
   "cell_type": "code",
   "execution_count": 45,
   "metadata": {},
   "outputs": [],
   "source": [
    "crop_mask = center_crop(\n",
    "        mask, \n",
    "        desired_width=256,\n",
    "        desired_height=256,\n",
    "        height_offset=0,\n",
    "        width_offset=0,\n",
    "        cv=False\n",
    "    )"
   ]
  },
  {
   "cell_type": "code",
   "execution_count": 48,
   "metadata": {},
   "outputs": [
    {
     "name": "stdout",
     "output_type": "stream",
     "text": [
      " mask has a size of (256, 256)\n"
     ]
    },
    {
     "data": {
      "image/jpeg": "[encoded data removed]",
      "image/png": "[encoded data removed]",
      "text/plain": [
       "<PIL.Image.Image image mode=L size=256x256>"
      ]
     },
     "execution_count": 48,
     "metadata": {},
     "output_type": "execute_result"
    }
   ],
   "source": [
    "print(f' mask has a size of {crop_mask.size}')\n",
    "crop_mask"
   ]
  },
  {
   "cell_type": "markdown",
   "metadata": {},
   "source": [
    "- If expected to have a opencv image, then use `cv=True`"
   ]
  },
  {
   "cell_type": "code",
   "execution_count": 49,
   "metadata": {},
   "outputs": [],
   "source": [
    "crop_mask_ocv = center_crop(\n",
    "        mask, \n",
    "        desired_width=256,\n",
    "        desired_height=256,\n",
    "        height_offset=0,\n",
    "        width_offset=0,\n",
    "        cv=True\n",
    "    )"
   ]
  },
  {
   "cell_type": "code",
   "execution_count": 52,
   "metadata": {},
   "outputs": [
    {
     "data": {
      "image/png": "[encoded data removed]",
      "text/plain": [
       "<Figure size 256x256 with 1 Axes>"
      ]
     },
     "metadata": {},
     "output_type": "display_data"
    }
   ],
   "source": [
    "show_(crop_mask_ocv)"
   ]
  },
  {
   "cell_type": "markdown",
   "metadata": {},
   "source": [
    "#### Overlay Image and Mask"
   ]
  },
  {
   "cell_type": "markdown",
   "metadata": {},
   "source": [
    "- In case of want to see overlay imagea and mask in a same image"
   ]
  },
  {
   "cell_type": "code",
   "execution_count": 57,
   "metadata": {},
   "outputs": [
    {
     "data": {
      "image/png": "[encoded data removed]",
      "text/plain": [
       "<Figure size 640x480 with 1 Axes>"
      ]
     },
     "metadata": {},
     "output_type": "display_data"
    }
   ],
   "source": [
    "overlay_mask(\n",
    "    im_path=IM_PATH,\n",
    "    msk_path=MASK_PATH,\n",
    "    alpha=0.3 # visibility opacity\n",
    ")"
   ]
  },
  {
   "cell_type": "markdown",
   "metadata": {},
   "source": [
    "- Sometimes one needs to see not the mask but the border line of the mask"
   ]
  },
  {
   "cell_type": "code",
   "execution_count": 60,
   "metadata": {},
   "outputs": [],
   "source": [
    "overlay_mask_border_on_image(\n",
    "    im_path=IM_PATH,\n",
    "    msk_path=MASK_PATH,\n",
    "    save_new_img_path=None, # in case you want to save overlay mask then give path name\n",
    "    border_width=1\n",
    "\n",
    ")"
   ]
  },
  {
   "cell_type": "markdown",
   "metadata": {},
   "source": [
    "- Sometimes you want to compare another image to the overlay image, then just use this image\n",
    "- just an example we are adding the mask again"
   ]
  },
  {
   "cell_type": "code",
   "execution_count": 61,
   "metadata": {},
   "outputs": [],
   "source": [
    "new_image = read_img(IM_PATH, cv=True)"
   ]
  },
  {
   "cell_type": "code",
   "execution_count": 62,
   "metadata": {},
   "outputs": [
    {
     "ename": "SyntaxError",
     "evalue": "keyword argument repeated: save_new_img_path (1153907145.py, line 7)",
     "output_type": "error",
     "traceback": [
      "\u001b[0;36m  Cell \u001b[0;32mIn[62], line 7\u001b[0;36m\u001b[0m\n\u001b[0;31m    save_new_img_path=None, # in case you want to save this new image\u001b[0m\n\u001b[0m    ^\u001b[0m\n\u001b[0;31mSyntaxError\u001b[0m\u001b[0;31m:\u001b[0m keyword argument repeated: save_new_img_path\n"
     ]
    }
   ],
   "source": [
    "overlay_mask_border_on_image(\n",
    "    im_path=IM_PATH,\n",
    "    msk_path=MASK_PATH,\n",
    "    new_img=new_image,\n",
    "    save_new_img_path=None, # in case you want to save this new image\n",
    "    border_width=1,\n",
    "\n",
    ")"
   ]
  },
  {
   "cell_type": "markdown",
   "metadata": {},
   "source": [
    "#### Concatenating images"
   ]
  },
  {
   "cell_type": "markdown",
   "metadata": {},
   "source": [
    "- Sometimes you have 2 or more images, and you want to create a single image from these images\n",
    "- if desired one small text can be added in this new image"
   ]
  },
  {
   "cell_type": "code",
   "execution_count": 64,
   "metadata": {},
   "outputs": [],
   "source": [
    "images = [new_image, new_image]"
   ]
  },
  {
   "cell_type": "code",
   "execution_count": 75,
   "metadata": {},
   "outputs": [],
   "source": [
    "combined_img = concat_images(\n",
    "    images= images,\n",
    "    rows=1,\n",
    "    cols=2,\n",
    "    number='combined'\n",
    ")"
   ]
  },
  {
   "cell_type": "code",
   "execution_count": 76,
   "metadata": {},
   "outputs": [
    {
     "data": {
      "image/png": "[encoded data removed]",
      "text/plain": [
       "<Figure size 596x298 with 1 Axes>"
      ]
     },
     "metadata": {},
     "output_type": "display_data"
    }
   ],
   "source": [
    "show_(combined_img)"
   ]
  },
  {
   "cell_type": "code",
   "execution_count": 69,
   "metadata": {},
   "outputs": [],
   "source": [
    "combined_img = concat_images(\n",
    "    images= images,\n",
    "    rows=2,\n",
    "    cols=1,\n",
    "    number='combined'\n",
    ")"
   ]
  },
  {
   "cell_type": "code",
   "execution_count": 70,
   "metadata": {},
   "outputs": [
    {
     "data": {
      "image/png": "[encoded data removed]",
      "text/plain": [
       "<Figure size 298x596 with 1 Axes>"
      ]
     },
     "metadata": {},
     "output_type": "display_data"
    }
   ],
   "source": [
    "show_(combined_img)"
   ]
  },
  {
   "cell_type": "markdown",
   "metadata": {},
   "source": [
    "- So you have one image where could be lots of masks or single masks, you doesn't want to see full image, but only mask part of the image, with image"
   ]
  },
  {
   "cell_type": "code",
   "execution_count": 74,
   "metadata": {},
   "outputs": [
    {
     "data": {
      "image/png": "[encoded data removed]",
      "text/plain": [
       "<Figure size 234x221 with 1 Axes>"
      ]
     },
     "metadata": {},
     "output_type": "display_data"
    }
   ],
   "source": [
    "show_poster_from_path(\n",
    "    mask_path=MASK_PATH,\n",
    "    im_path=DATA_PATH, # Remember here not the full image path,\\\n",
    "                        #but only folder name, from this folder \n",
    "                        # Same file name as mask_path name will be\n",
    "                        # searched\n",
    "    show_='poster', # only mask\n",
    "    text='test_poster'\n",
    ")\n"
   ]
  },
  {
   "cell_type": "markdown",
   "metadata": {},
   "source": [
    "- In case of single poster, it is not helpful, When you have lot's of small objects, then may be it is interesting"
   ]
  },
  {
   "cell_type": "markdown",
   "metadata": {},
   "source": [
    "#### Get Template part from an image"
   ]
  },
  {
   "cell_type": "markdown",
   "metadata": {},
   "source": [
    "- So you have a template image, and you want to get this template from this image, \n",
    "- following function will give bounding box (x, y, w, h format) of template part from this image"
   ]
  },
  {
   "cell_type": "code",
   "execution_count": null,
   "metadata": {},
   "outputs": [],
   "source": [
    "x, y, w, h=get_template_part(\n",
    "    img=read_img(IM_PATH, cv=True),\n",
    "    tmp_img=tmp_im_path\n",
    ")\n",
    "tmp_part = img[y:y +h, x: x+w]"
   ]
  },
  {
   "cell_type": "markdown",
   "metadata": {},
   "source": [
    "#### Finding contour from a binary mask"
   ]
  },
  {
   "cell_type": "code",
   "execution_count": 78,
   "metadata": {},
   "outputs": [],
   "source": [
    "img = read_img(IM_PATH, cv=True, gray=True)"
   ]
  },
  {
   "cell_type": "code",
   "execution_count": 81,
   "metadata": {},
   "outputs": [
    {
     "data": {
      "text/plain": [
       "1"
      ]
     },
     "execution_count": 81,
     "metadata": {},
     "output_type": "execute_result"
    }
   ],
   "source": [
    "contours = find_contours_binary(\n",
    "    img\n",
    ")\n",
    "len(contours)"
   ]
  },
  {
   "cell_type": "markdown",
   "metadata": {},
   "source": [
    "#### Split Image"
   ]
  },
  {
   "cell_type": "markdown",
   "metadata": {},
   "source": [
    "- So you have an image, and you want to cut your images in smaller parts.\n",
    "- last part will not be same like other parts, because possible extra part or smaller part"
   ]
  },
  {
   "cell_type": "code",
   "execution_count": 85,
   "metadata": {},
   "outputs": [
    {
     "data": {
      "image/png": "[encoded data removed]",
      "text/plain": [
       "<Figure size 99x298 with 1 Axes>"
      ]
     },
     "metadata": {},
     "output_type": "display_data"
    },
    {
     "data": {
      "image/png": "[encoded data removed]",
      "text/plain": [
       "<Figure size 99x298 with 1 Axes>"
      ]
     },
     "metadata": {},
     "output_type": "display_data"
    },
    {
     "data": {
      "image/png": "[encoded data removed]",
      "text/plain": [
       "<Figure size 100x298 with 1 Axes>"
      ]
     },
     "metadata": {},
     "output_type": "display_data"
    }
   ],
   "source": [
    "splitted_parts = split_image(img, num_splits=3, direction='horizontal')\n",
    "show_(splitted_parts)"
   ]
  },
  {
   "cell_type": "code",
   "execution_count": 86,
   "metadata": {},
   "outputs": [
    {
     "data": {
      "image/png": "[encoded data removed]",
      "text/plain": [
       "<Figure size 298x99 with 1 Axes>"
      ]
     },
     "metadata": {},
     "output_type": "display_data"
    },
    {
     "data": {
      "image/png": "[encoded data removed]",
      "text/plain": [
       "<Figure size 298x99 with 1 Axes>"
      ]
     },
     "metadata": {},
     "output_type": "display_data"
    },
    {
     "data": {
      "image/png": "[encoded data removed]",
      "text/plain": [
       "<Figure size 298x100 with 1 Axes>"
      ]
     },
     "metadata": {},
     "output_type": "display_data"
    }
   ],
   "source": [
    "splitted_parts_v = split_image(img, num_splits=3, direction='vertical')\n",
    "show_(splitted_parts_v)"
   ]
  },
  {
   "cell_type": "code",
   "execution_count": null,
   "metadata": {},
   "outputs": [],
   "source": [
    "#### Correction of Masks"
   ]
  },
  {
   "cell_type": "markdown",
   "metadata": {},
   "source": [
    "- So you have a binary mask, but there are some small holes in that mask\n",
    "- so want to fill those holes inside your mask"
   ]
  },
  {
   "cell_type": "code",
   "execution_count": null,
   "metadata": {},
   "outputs": [],
   "source": [
    "filled_mask = fill_holes_in_objects(binaray_mask)"
   ]
  },
  {
   "cell_type": "markdown",
   "metadata": {},
   "source": [
    "- Sometimes you have some smaller parts in your masks and you want to remove those smaller parts from the mask"
   ]
  },
  {
   "cell_type": "code",
   "execution_count": null,
   "metadata": {},
   "outputs": [],
   "source": [
    "remove_small_objects(\n",
    "    binary_mask=binary_mask,\n",
    "    size_threshold=size_threshold\n",
    ")"
   ]
  },
  {
   "cell_type": "markdown",
   "metadata": {},
   "source": [
    "- May be you want to see each object in the mask put a number in each object and based on this number, you just remove a object from the mask"
   ]
  },
  {
   "cell_type": "code",
   "execution_count": null,
   "metadata": {},
   "outputs": [],
   "source": [
    "labels, new_labels = show_labeled_mask(\n",
    "    msk_path\n",
    ")"
   ]
  },
  {
   "cell_type": "code",
   "execution_count": null,
   "metadata": {},
   "outputs": [],
   "source": [
    "remove_object_from_mask(mask, object_id_list=[1])"
   ]
  },
  {
   "cell_type": "markdown",
   "metadata": {},
   "source": [
    "#### check data"
   ]
  },
  {
   "cell_type": "markdown",
   "metadata": {},
   "source": [
    "- in case of check validity of mask, you can create a overlay mask and check if it is correct or not, \n",
    "  - `overlay_mask_path` - is the saved image path\n",
    "  - `move_path` - is the path where you want to move the mask ( in case of mask is not correct)\n",
    "  - `im_height` - height of the image"
   ]
  },
  {
   "cell_type": "code",
   "execution_count": null,
   "metadata": {},
   "outputs": [],
   "source": [
    "display_image_row(\n",
    "    im_path=overlay_mask_path,\n",
    "    move_path=move_path,\n",
    "    max_images=10,\n",
    "    start=0,\n",
    "    im_height=200,\n",
    "    im_width=200,\n",
    "\n",
    ")"
   ]
  }
 ],
 "metadata": {
  "kernelspec": {
   "display_name": "python3",
   "language": "python",
   "name": "python3"
  },
  "language_info": {
   "codemirror_mode": {
    "name": "ipython",
    "version": 3
   },
   "file_extension": ".py",
   "mimetype": "text/x-python",
   "name": "python",
   "nbconvert_exporter": "python",
   "pygments_lexer": "ipython3",
   "version": "3.11.5"
  }
 },
 "nbformat": 4,
 "nbformat_minor": 4
}
