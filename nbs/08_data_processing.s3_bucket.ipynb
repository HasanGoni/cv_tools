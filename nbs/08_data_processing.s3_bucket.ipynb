{
 "cells": [
  {
   "cell_type": "markdown",
   "id": "3a931fc2",
   "metadata": {},
   "source": [
    "# S3 Bucket data processing\n",
    "> Data reading, writing or Saving in S3 bucket with boto3"
   ]
  },
  {
   "cell_type": "code",
   "execution_count": null,
   "id": "b8f234da",
   "metadata": {},
   "outputs": [],
   "source": [
    "#| default_exp data_processing.s3_bucket"
   ]
  },
  {
   "cell_type": "code",
   "execution_count": null,
   "id": "488012f6",
   "metadata": {},
   "outputs": [
    {
     "name": "stdout",
     "output_type": "stream",
     "text": [
      "The autoreload extension is already loaded. To reload it, use:\n",
      "  %reload_ext autoreload\n"
     ]
    }
   ],
   "source": [
    "#| hide\n",
    "%load_ext autoreload\n",
    "%autoreload 2\n"
   ]
  },
  {
   "cell_type": "code",
   "execution_count": null,
   "id": "244bfdd5",
   "metadata": {},
   "outputs": [],
   "source": [
    "#| export\n",
    "import sys\n",
    "from pathlib import Path\n",
    "import urllib3\n",
    "urllib3.disable_warnings(urllib3.exceptions.InsecureRequestWarning)\n"
   ]
  },
  {
   "cell_type": "code",
   "execution_count": null,
   "id": "b81adaff",
   "metadata": {},
   "outputs": [],
   "source": [
    "#| export\n",
    "import os\n",
    "import boto3\n",
    "from nbdev.showdoc import show_doc\n",
    "from botocore.exceptions import ClientError"
   ]
  },
  {
   "cell_type": "code",
   "execution_count": null,
   "id": "c72a3a0d",
   "metadata": {},
   "outputs": [],
   "source": [
    "#| export\n",
    "CV_TOOLS = Path(r'/home/ai_sintercra/homes/hasan/projects/git_data/cv_tools')\n",
    "sys.path.append(str(CV_TOOLS))\n"
   ]
  },
  {
   "cell_type": "code",
   "execution_count": null,
   "id": "50da54b8",
   "metadata": {},
   "outputs": [],
   "source": [
    "#| export\n",
    "custom_lib_path = Path(r'/home/ai_warstein/homes/goni/custom_libs')\n",
    "sys.path.append(str(custom_lib_path))\n"
   ]
  },
  {
   "cell_type": "code",
   "execution_count": null,
   "id": "8653f544",
   "metadata": {},
   "outputs": [],
   "source": [
    "#| export\n",
    "from cv_tools.imports import *\n",
    "from dotenv import load_dotenv\n"
   ]
  },
  {
   "cell_type": "code",
   "execution_count": null,
   "id": "bd8c3ef9",
   "metadata": {},
   "outputs": [
    {
     "data": {
      "text/plain": [
       "False"
      ]
     },
     "execution_count": null,
     "metadata": {},
     "output_type": "execute_result"
    }
   ],
   "source": [
    "#| export\n",
    "load_dotenv(dotenv_path=f'/home/ai_sintercra/homes/hasan/projects/git_data/2023_easy_pin_detection/private_easy_pin_detection/.env')"
   ]
  },
  {
   "cell_type": "code",
   "execution_count": null,
   "id": "1443d87f",
   "metadata": {},
   "outputs": [
    {
     "data": {
      "text/plain": [
       "True"
      ]
     },
     "execution_count": null,
     "metadata": {},
     "output_type": "execute_result"
    }
   ],
   "source": [
    "load_dotenv(dotenv_path=Path(Path.cwd().parent, 'private_easy_pin_detection/.env'))"
   ]
  },
  {
   "cell_type": "code",
   "execution_count": null,
   "id": "22acc4b7",
   "metadata": {},
   "outputs": [],
   "source": [
    "#| eval:false\n",
    "s3_access_key_id = os.environ['AWS_ACCESS_KEY_ID']\n",
    "s3_secret_access_key = os.environ['AWS_SECRET_ACCESS_KEY']"
   ]
  },
  {
   "cell_type": "code",
   "execution_count": null,
   "id": "0965d83c",
   "metadata": {},
   "outputs": [],
   "source": [
    "#| export\n",
    "CURRETNT_NB='/home/ai_sintercra/homes/hasan/projects/git_data/2023_easy_pin_detection/nbs'"
   ]
  },
  {
   "cell_type": "code",
   "execution_count": null,
   "id": "d68130c6",
   "metadata": {},
   "outputs": [],
   "source": [
    "#| export\n",
    "def get_client(\n",
    "    s3_access_key_id:str, \n",
    "    s3_secret_access_key:str,\n",
    "    endpoint_url:str='https://s3warceph01.infineon.com',\n",
    "    verify:bool=False):\n",
    "    return boto3.client(\n",
    "        's3', \n",
    "        endpoint_url=endpoint_url, \n",
    "        aws_access_key_id=s3_access_key_id,\n",
    "        aws_secret_access_key=s3_secret_access_key,\n",
    "        verify=verify,\n",
    "        )\n",
    "        \n",
    "       "
   ]
  },
  {
   "cell_type": "code",
   "execution_count": null,
   "id": "6b7d3b95",
   "metadata": {},
   "outputs": [],
   "source": [
    "#client=get_client(s3_access_key_id, s3_secret_access_key)"
   ]
  },
  {
   "cell_type": "markdown",
   "id": "0a2496ad",
   "metadata": {},
   "source": [
    "`list_objects_v2` doc is [here](https://boto3.amazonaws.com/v1/documentation/api/latest/reference/services/s3/client/list_objects_v2.html)"
   ]
  },
  {
   "cell_type": "code",
   "execution_count": null,
   "id": "d1940a74",
   "metadata": {},
   "outputs": [],
   "source": [
    "#| export\n",
    "def list_s3_folder_contents(\n",
    "    boto3_client: boto3.client, \n",
    "    bucket_name: str, \n",
    "    folder_prefix: str,\n",
    "    recursive: bool = False) -> List[str]:\n",
    "    \"\"\"\n",
    "    Make sure to add '/' at the end of the folder_prefix\n",
    "    List files and subfolders in a specific S3 bucket folder.\n",
    "    If recursive is True, it will list all files and subfolders recursively.\n",
    "    If recursive is False, it will only list immediate contents of the folder.\n",
    "    \n",
    "    \"\"\"\n",
    "    contents = set()\n",
    "    try:\n",
    "        paginator = boto3_client.get_paginator('list_objects_v2')\n",
    "        \n",
    "        if recursive:\n",
    "            pages = paginator.paginate(Bucket=bucket_name, Prefix=folder_prefix)\n",
    "        else:\n",
    "            pages = paginator.paginate(Bucket=bucket_name, Prefix=folder_prefix, Delimiter='/')\n",
    "        \n",
    "        for page in pages:\n",
    "            if not recursive and 'CommonPrefixes' in page:\n",
    "            \n",
    "                for prefix in page['CommonPrefixes']:\n",
    "                    contents.add(prefix['Prefix'])\n",
    "            if 'Contents' in page:\n",
    "                for obj in page['Contents']:\n",
    "                    key = obj['Key']\n",
    "                    if key != folder_prefix:  # Exclude the folder itself\n",
    "                        if recursive:\n",
    "                            contents.add(key)\n",
    "                        else:\n",
    "                            # Only add files in the immediate folder\n",
    "                            relative_path = key[len(folder_prefix):]\n",
    "                            if not relative_path.strip('/'):  # This is the folder itself\n",
    "                                continue\n",
    "                            if '/' not in relative_path.strip('/'):\n",
    "                                contents.add(relative_path.split('/')[0])\n",
    "        \n",
    "        contents_list = sorted(list(contents))\n",
    "        if contents_list:\n",
    "            print(f\"Found {len(contents_list)} items in the folder '{folder_prefix}':\")\n",
    "            #for item in contents_list[:10]:  # Print first 10 items\n",
    "                #print(item)\n",
    "                \n",
    "            if len(contents_list) > 10:\n",
    "                print(\"...\")\n",
    "        else:\n",
    "            print(f\"No items found in the folder '{folder_prefix}'.\")\n",
    "        \n",
    "        return contents_list\n",
    "    except Exception as e:\n",
    "        print(f\"An error occurred: {str(e)}\")\n",
    "        return []\n",
    "\n"
   ]
  },
  {
   "cell_type": "code",
   "execution_count": null,
   "id": "62c80952",
   "metadata": {},
   "outputs": [],
   "source": [
    "#| hide\n",
    "#| eval: false\n",
    "#folder='projects/2024_Pin_Detection_End_Test/HG/Datasets/'\n",
    "#files_ = list_s3_folder_contents(\n",
    "    #boto3_client=get_client(s3_access_key_id, s3_secret_access_key), \n",
    "    #bucket_name='s3-ai-warstein', \n",
    "    #folder_prefix=folder,\n",
    "    #recursive=False\n",
    "#)\n",
    "##| export"
   ]
  },
  {
   "cell_type": "code",
   "execution_count": null,
   "id": "7b22c416",
   "metadata": {},
   "outputs": [],
   "source": [
    "#| export\n",
    "def ls_s3(\n",
    "    folder_prefix: str,\n",
    "    bucket_name: str='s3-ai-warstein', \n",
    "    s3_access_key_id: str=None,#os.environ['AWS_ACCESS_KEY_ID'],\n",
    "    s3_secret_access_key: str=None,#os.environ['AWS_SECRET_ACCESS_KEY'],\n",
    "    recursive: bool=False,\n",
    "    endpoint_url: str='https://s3warceph01.infineon.com',\n",
    "    verify: bool=False,\n",
    "    ) -> List[str]:\n",
    "    boto3_client = get_client(\n",
    "        s3_access_key_id=s3_access_key_id, \n",
    "        s3_secret_access_key=s3_secret_access_key, \n",
    "        endpoint_url=endpoint_url,\n",
    "        verify=verify)\n",
    "    #return None\n",
    "    return list_s3_folder_contents(\n",
    "           boto3_client=boto3_client, \n",
    "           bucket_name=bucket_name, \n",
    "           folder_prefix=folder_prefix,\n",
    "           recursive=recursive)"
   ]
  },
  {
   "cell_type": "code",
   "execution_count": null,
   "id": "7177b284",
   "metadata": {},
   "outputs": [
    {
     "name": "stdout",
     "output_type": "stream",
     "text": [
      "Found 1 items in the folder 'projects/2024_Pin_Detection_End_Test/':\n",
      "projects/2024_Pin_Detection_End_Test/HG/\n"
     ]
    }
   ],
   "source": [
    "#folders = ls_s3(folder_prefix='projects/2024_Pin_Detection_End_Test/')"
   ]
  },
  {
   "cell_type": "markdown",
   "id": "7e97794b",
   "metadata": {},
   "source": [
    "# Download file locally"
   ]
  },
  {
   "cell_type": "code",
   "execution_count": null,
   "id": "5faddf68",
   "metadata": {},
   "outputs": [],
   "source": []
  },
  {
   "cell_type": "code",
   "execution_count": null,
   "id": "aae160e7",
   "metadata": {},
   "outputs": [
    {
     "name": "stdout",
     "output_type": "stream",
     "text": [
      "Found 26 items in the folder 'projects/2024_Pin_Detection_End_Test/HG/Datasets/images/':\n",
      "...\n",
      "Downloaded: projects/2024_Pin_Detection_End_Test/HG/Datasets/images/1_gen_image_2_VFV4.7.9.5_2024022807271781_ID_00943048112818112132406_In_87_r_1_FRONT_Additional Lead_image2_col_0_0_mean_0.png to n:\\homes\\hasan\\projects\\git_data\\2023_easy_pin_detection\\data\\1_gen_image_2_VFV4.7.9.5_2024022807271781_ID_00943048112818112132406_In_87_r_1_FRONT_Additional Lead_image2_col_0_0_mean_0.png\n",
      "Downloaded: projects/2024_Pin_Detection_End_Test/HG/Datasets/images/1_gen_image_2_VFV4.7.9.5_2024022807271781_ID_00943048112818112132406_In_87_r_1_FRONT_Additional Lead_image2_col_0_0_mean_10.png to n:\\homes\\hasan\\projects\\git_data\\2023_easy_pin_detection\\data\\1_gen_image_2_VFV4.7.9.5_2024022807271781_ID_00943048112818112132406_In_87_r_1_FRONT_Additional Lead_image2_col_0_0_mean_10.png\n",
      "Downloaded: projects/2024_Pin_Detection_End_Test/HG/Datasets/images/1_gen_image_2_VFV4.7.9.5_2024022807271781_ID_00943048112818112132406_In_87_r_1_FRONT_Additional Lead_image2_col_0_0_mean_8.png to n:\\homes\\hasan\\projects\\git_data\\2023_easy_pin_detection\\data\\1_gen_image_2_VFV4.7.9.5_2024022807271781_ID_00943048112818112132406_In_87_r_1_FRONT_Additional Lead_image2_col_0_0_mean_8.png\n",
      "Downloaded: projects/2024_Pin_Detection_End_Test/HG/Datasets/images/1_gen_image_2_VFV4.7.9.5_2024022807271781_ID_00943048112818112132406_In_87_r_1_FRONT_Additional Lead_image2_col_0_0_sharpen_image.png to n:\\homes\\hasan\\projects\\git_data\\2023_easy_pin_detection\\data\\1_gen_image_2_VFV4.7.9.5_2024022807271781_ID_00943048112818112132406_In_87_r_1_FRONT_Additional Lead_image2_col_0_0_sharpen_image.png\n",
      "Downloaded: projects/2024_Pin_Detection_End_Test/HG/Datasets/images/1_gen_image_2_VFV4.7.9.5_2024022807271781_ID_00943048112818112132406_In_87_r_1_FRONT_Additional Lead_image2_col_0_0_var_60.png to n:\\homes\\hasan\\projects\\git_data\\2023_easy_pin_detection\\data\\1_gen_image_2_VFV4.7.9.5_2024022807271781_ID_00943048112818112132406_In_87_r_1_FRONT_Additional Lead_image2_col_0_0_var_60.png\n",
      "Downloaded: projects/2024_Pin_Detection_End_Test/HG/Datasets/images/1_gen_image_2_VFV4.7.9.5_2024022807271781_ID_00943048112818112132406_In_87_r_1_FRONT_Additional Lead_image2_col_0_0_var_70.png to n:\\homes\\hasan\\projects\\git_data\\2023_easy_pin_detection\\data\\1_gen_image_2_VFV4.7.9.5_2024022807271781_ID_00943048112818112132406_In_87_r_1_FRONT_Additional Lead_image2_col_0_0_var_70.png\n",
      "Downloaded: projects/2024_Pin_Detection_End_Test/HG/Datasets/images/1_gen_image_3_VFV4.7.9.5_2024022805132264_ID_00343048112818112132406_In_87_r_1_FRONT_Additional Lead_image2_col_0_0_alpha_0.5_image.png to n:\\homes\\hasan\\projects\\git_data\\2023_easy_pin_detection\\data\\1_gen_image_3_VFV4.7.9.5_2024022805132264_ID_00343048112818112132406_In_87_r_1_FRONT_Additional Lead_image2_col_0_0_alpha_0.5_image.png\n",
      "Downloaded: projects/2024_Pin_Detection_End_Test/HG/Datasets/images/1_gen_image_3_VFV4.7.9.5_2024022805132264_ID_00343048112818112132406_In_87_r_1_FRONT_Additional Lead_image2_col_0_0_alpha_0.7_image.png to n:\\homes\\hasan\\projects\\git_data\\2023_easy_pin_detection\\data\\1_gen_image_3_VFV4.7.9.5_2024022805132264_ID_00343048112818112132406_In_87_r_1_FRONT_Additional Lead_image2_col_0_0_alpha_0.7_image.png\n",
      "Downloaded: projects/2024_Pin_Detection_End_Test/HG/Datasets/images/1_gen_image_3_VFV4.7.9.5_2024022805132264_ID_00343048112818112132406_In_87_r_1_FRONT_Additional Lead_image2_col_0_0_alpha_0.8_image.png to n:\\homes\\hasan\\projects\\git_data\\2023_easy_pin_detection\\data\\1_gen_image_3_VFV4.7.9.5_2024022805132264_ID_00343048112818112132406_In_87_r_1_FRONT_Additional Lead_image2_col_0_0_alpha_0.8_image.png\n",
      "Downloaded: projects/2024_Pin_Detection_End_Test/HG/Datasets/images/1_gen_image_3_VFV4.7.9.5_2024022805132264_ID_00343048112818112132406_In_87_r_1_FRONT_Additional Lead_image2_col_0_0_alpha_0.9_image.png to n:\\homes\\hasan\\projects\\git_data\\2023_easy_pin_detection\\data\\1_gen_image_3_VFV4.7.9.5_2024022805132264_ID_00343048112818112132406_In_87_r_1_FRONT_Additional Lead_image2_col_0_0_alpha_0.9_image.png\n",
      "Downloaded: projects/2024_Pin_Detection_End_Test/HG/Datasets/images/1_gen_image_3_VFV4.7.9.5_2024022805132264_ID_00343048112818112132406_In_87_r_1_FRONT_Additional Lead_image2_col_0_0_alpha_1.2_image.png to n:\\homes\\hasan\\projects\\git_data\\2023_easy_pin_detection\\data\\1_gen_image_3_VFV4.7.9.5_2024022805132264_ID_00343048112818112132406_In_87_r_1_FRONT_Additional Lead_image2_col_0_0_alpha_1.2_image.png\n",
      "Downloaded: projects/2024_Pin_Detection_End_Test/HG/Datasets/images/1_gen_image_3_VFV4.7.9.5_2024022805132264_ID_00343048112818112132406_In_87_r_1_FRONT_Additional Lead_image2_col_0_0_alpha_1.3_image.png to n:\\homes\\hasan\\projects\\git_data\\2023_easy_pin_detection\\data\\1_gen_image_3_VFV4.7.9.5_2024022805132264_ID_00343048112818112132406_In_87_r_1_FRONT_Additional Lead_image2_col_0_0_alpha_1.3_image.png\n",
      "Downloaded: projects/2024_Pin_Detection_End_Test/HG/Datasets/images/1_gen_image_3_VFV4.7.9.5_2024022805132264_ID_00343048112818112132406_In_87_r_1_FRONT_Additional Lead_image2_col_0_0_mean_0.png to n:\\homes\\hasan\\projects\\git_data\\2023_easy_pin_detection\\data\\1_gen_image_3_VFV4.7.9.5_2024022805132264_ID_00343048112818112132406_In_87_r_1_FRONT_Additional Lead_image2_col_0_0_mean_0.png\n",
      "Downloaded: projects/2024_Pin_Detection_End_Test/HG/Datasets/images/1_gen_image_3_VFV4.7.9.5_2024022805132264_ID_00343048112818112132406_In_87_r_1_FRONT_Additional Lead_image2_col_0_0_mean_12.png to n:\\homes\\hasan\\projects\\git_data\\2023_easy_pin_detection\\data\\1_gen_image_3_VFV4.7.9.5_2024022805132264_ID_00343048112818112132406_In_87_r_1_FRONT_Additional Lead_image2_col_0_0_mean_12.png\n",
      "Downloaded: projects/2024_Pin_Detection_End_Test/HG/Datasets/images/1_gen_image_3_VFV4.7.9.5_2024022805132264_ID_00343048112818112132406_In_87_r_1_FRONT_Additional Lead_image2_col_0_0_mean_8.png to n:\\homes\\hasan\\projects\\git_data\\2023_easy_pin_detection\\data\\1_gen_image_3_VFV4.7.9.5_2024022805132264_ID_00343048112818112132406_In_87_r_1_FRONT_Additional Lead_image2_col_0_0_mean_8.png\n",
      "Downloaded: projects/2024_Pin_Detection_End_Test/HG/Datasets/images/1_gen_image_3_VFV4.7.9.5_2024022805132264_ID_00343048112818112132406_In_87_r_1_FRONT_Additional Lead_image2_col_0_0_sharpen_image.png to n:\\homes\\hasan\\projects\\git_data\\2023_easy_pin_detection\\data\\1_gen_image_3_VFV4.7.9.5_2024022805132264_ID_00343048112818112132406_In_87_r_1_FRONT_Additional Lead_image2_col_0_0_sharpen_image.png\n",
      "Downloaded: projects/2024_Pin_Detection_End_Test/HG/Datasets/images/1_gen_image_3_VFV4.7.9.5_2024022805132264_ID_00343048112818112132406_In_87_r_1_FRONT_Additional Lead_image2_col_0_0_var_50.png to n:\\homes\\hasan\\projects\\git_data\\2023_easy_pin_detection\\data\\1_gen_image_3_VFV4.7.9.5_2024022805132264_ID_00343048112818112132406_In_87_r_1_FRONT_Additional Lead_image2_col_0_0_var_50.png\n",
      "Downloaded: projects/2024_Pin_Detection_End_Test/HG/Datasets/images/1_gen_image_3_VFV4.7.9.5_2024022805132264_ID_00343048112818112132406_In_87_r_1_FRONT_Additional Lead_image2_col_0_0_var_60.png to n:\\homes\\hasan\\projects\\git_data\\2023_easy_pin_detection\\data\\1_gen_image_3_VFV4.7.9.5_2024022805132264_ID_00343048112818112132406_In_87_r_1_FRONT_Additional Lead_image2_col_0_0_var_60.png\n",
      "Downloaded: projects/2024_Pin_Detection_End_Test/HG/Datasets/images/1_gen_image_3_VFV4.7.9.5_2024022805132264_ID_00343048112818112132406_In_87_r_1_FRONT_Additional Lead_image2_col_0_0_var_80.png to n:\\homes\\hasan\\projects\\git_data\\2023_easy_pin_detection\\data\\1_gen_image_3_VFV4.7.9.5_2024022805132264_ID_00343048112818112132406_In_87_r_1_FRONT_Additional Lead_image2_col_0_0_var_80.png\n",
      "Downloaded: projects/2024_Pin_Detection_End_Test/HG/Datasets/images/1_gen_image_4_VFV4.7.9.5_2024030313041762_ID_00888046905818157162408_In_17_r_1_FRONT_Additional Lead_image2_col_9_5_alpha_0.5_image.png to n:\\homes\\hasan\\projects\\git_data\\2023_easy_pin_detection\\data\\1_gen_image_4_VFV4.7.9.5_2024030313041762_ID_00888046905818157162408_In_17_r_1_FRONT_Additional Lead_image2_col_9_5_alpha_0.5_image.png\n",
      "Downloaded: projects/2024_Pin_Detection_End_Test/HG/Datasets/images/1_gen_image_4_VFV4.7.9.5_2024030313041762_ID_00888046905818157162408_In_17_r_1_FRONT_Additional Lead_image2_col_9_5_alpha_0.7_image.png to n:\\homes\\hasan\\projects\\git_data\\2023_easy_pin_detection\\data\\1_gen_image_4_VFV4.7.9.5_2024030313041762_ID_00888046905818157162408_In_17_r_1_FRONT_Additional Lead_image2_col_9_5_alpha_0.7_image.png\n",
      "Downloaded: projects/2024_Pin_Detection_End_Test/HG/Datasets/images/1_gen_image_4_VFV4.7.9.5_2024030313041762_ID_00888046905818157162408_In_17_r_1_FRONT_Additional Lead_image2_col_9_5_alpha_0.8_image.png to n:\\homes\\hasan\\projects\\git_data\\2023_easy_pin_detection\\data\\1_gen_image_4_VFV4.7.9.5_2024030313041762_ID_00888046905818157162408_In_17_r_1_FRONT_Additional Lead_image2_col_9_5_alpha_0.8_image.png\n",
      "Downloaded: projects/2024_Pin_Detection_End_Test/HG/Datasets/images/1_gen_image_4_VFV4.7.9.5_2024030313041762_ID_00888046905818157162408_In_17_r_1_FRONT_Additional Lead_image2_col_9_5_alpha_0.9_image.png to n:\\homes\\hasan\\projects\\git_data\\2023_easy_pin_detection\\data\\1_gen_image_4_VFV4.7.9.5_2024030313041762_ID_00888046905818157162408_In_17_r_1_FRONT_Additional Lead_image2_col_9_5_alpha_0.9_image.png\n",
      "Downloaded: projects/2024_Pin_Detection_End_Test/HG/Datasets/images/1_gen_image_4_VFV4.7.9.5_2024030313041762_ID_00888046905818157162408_In_17_r_1_FRONT_Additional Lead_image2_col_9_5_alpha_1.2_image.png to n:\\homes\\hasan\\projects\\git_data\\2023_easy_pin_detection\\data\\1_gen_image_4_VFV4.7.9.5_2024030313041762_ID_00888046905818157162408_In_17_r_1_FRONT_Additional Lead_image2_col_9_5_alpha_1.2_image.png\n",
      "Downloaded: projects/2024_Pin_Detection_End_Test/HG/Datasets/images/1_gen_image_4_VFV4.7.9.5_2024030313041762_ID_00888046905818157162408_In_17_r_1_FRONT_Additional Lead_image2_col_9_5_alpha_1.3_image.png to n:\\homes\\hasan\\projects\\git_data\\2023_easy_pin_detection\\data\\1_gen_image_4_VFV4.7.9.5_2024030313041762_ID_00888046905818157162408_In_17_r_1_FRONT_Additional Lead_image2_col_9_5_alpha_1.3_image.png\n",
      "Downloaded: projects/2024_Pin_Detection_End_Test/HG/Datasets/images/1_gen_image_4_VFV4.7.9.5_2024030313041762_ID_00888046905818157162408_In_17_r_1_FRONT_Additional Lead_image2_col_9_5_mean_8.png to n:\\homes\\hasan\\projects\\git_data\\2023_easy_pin_detection\\data\\1_gen_image_4_VFV4.7.9.5_2024030313041762_ID_00888046905818157162408_In_17_r_1_FRONT_Additional Lead_image2_col_9_5_mean_8.png\n",
      "Download complete. All files from projects/2024_Pin_Detection_End_Test/HG/Datasets/images/ have been downloaded to n:\\homes\\hasan\\projects\\git_data\\2023_easy_pin_detection\\data\n"
     ]
    }
   ],
   "source": [
    "#| export\n",
    "def download_s3_folder(\n",
    "    s3_folder: str,\n",
    "    local_dir: str,\n",
    "    bucket_name: str = 's3-ai-warstein',\n",
    "    s3_access_key_id: str = None, # os.environ['AWS_ACCESS_KEY_ID']\n",
    "    s3_secret_access_key: str = None, # os.environ['AWS_SECRET_ACCESS_KEY']\n",
    "    endpoint_url: str = 'https://s3warceph01.infineon.com',\n",
    "    verify: bool = False,\n",
    "    file_num: int = None\n",
    "):\n",
    "    \"\"\"\n",
    "    Download all contents of an S3 folder to a local directory.\n",
    "\n",
    "    Args:\n",
    "    s3_folder (str): The S3 folder path to download from.\n",
    "    local_dir (str): The local directory to save the downloaded files.\n",
    "    bucket_name (str): The S3 bucket name.\n",
    "    s3_access_key_id (str): AWS access key ID.\n",
    "    s3_secret_access_key (str): AWS secret access key.\n",
    "    endpoint_url (str): S3 endpoint URL.\n",
    "    verify (bool): Whether to verify SSL certificates.\n",
    "    \"\"\"\n",
    "    s3_client = get_client(\n",
    "        s3_access_key_id=s3_access_key_id,\n",
    "        s3_secret_access_key=s3_secret_access_key,\n",
    "        endpoint_url=endpoint_url,\n",
    "        verify=verify\n",
    "    )\n",
    "\n",
    "    # Ensure the S3 folder path ends with a '/'\n",
    "    if not s3_folder.endswith('/'):\n",
    "        s3_folder += '/'\n",
    "\n",
    "    # List all objects in the S3 folder\n",
    "    objects = ls_s3(\n",
    "        folder_prefix=s3_folder,\n",
    "        bucket_name=bucket_name,\n",
    "        s3_access_key_id=s3_access_key_id,\n",
    "        s3_secret_access_key=s3_secret_access_key,\n",
    "        recursive=True\n",
    "    )\n",
    "    if file_num is not None:\n",
    "        objects = objects[:file_num]\n",
    "\n",
    "    for obj in objects:\n",
    "        # Get the relative path of the file\n",
    "        relative_path = obj[len(s3_folder):]\n",
    "        # Construct the full local path\n",
    "        local_file_path = os.path.join(local_dir, relative_path)\n",
    "        \n",
    "        # Create the directory if it doesn't exist\n",
    "        os.makedirs(os.path.dirname(local_file_path), exist_ok=True)\n",
    "        \n",
    "        # Download the file\n",
    "        try:\n",
    "            s3_client.download_file(bucket_name, obj, local_file_path)\n",
    "            print(f\"Downloaded: {obj} to {local_file_path}\")\n",
    "        except Exception as e:\n",
    "            print(f\"Error downloading {obj}: {str(e)}\")\n",
    "\n",
    "    print(f\"Download complete. All files from {s3_folder} have been downloaded to {local_dir}\")\n"
   ]
  },
  {
   "cell_type": "code",
   "execution_count": null,
   "id": "efed3f05",
   "metadata": {},
   "outputs": [],
   "source": [
    "#| hide\n",
    "#| eval: false\n",
    "# Example usage:\n",
    "#download_s3_folder(\n",
    "     #s3_folder='projects/2024_Pin_Detection_End_Test/HG/Datasets/images',\n",
    "     #local_dir=data_dir,\n",
    "     #bucket_name='s3-ai-warstein',\n",
    "     #file_num=None\n",
    " #)"
   ]
  },
  {
   "cell_type": "code",
   "execution_count": null,
   "id": "f325848d",
   "metadata": {},
   "outputs": [],
   "source": [
    "#| export\n",
    "def upload_to_s3(\n",
    "    local_path, \n",
    "    s3_folder, \n",
    "    bucket_name, \n",
    "    s3_access_key_id, \n",
    "    s3_secret_access_key,\n",
    "    endpoint_url: str = 'https://s3warceph01.infineon.com',\n",
    "    verify: bool = False,\n",
    "    ):\n",
    "    \"\"\"\n",
    "    Upload a file or folder to S3 bucket. If the folder doesn't exist, it will be created.\n",
    "    \n",
    "    :param local_path: Path to the local file or directory to upload\n",
    "    :param s3_folder: S3 folder path where the file/folder will be uploaded\n",
    "    :param bucket_name: Name of the S3 bucket\n",
    "    :param s3_access_key_id: AWS access key ID\n",
    "    :param s3_secret_access_key: AWS secret access key\n",
    "    \"\"\"\n",
    "    # Create S3 client\n",
    "    s3_client = boto3.client(\n",
    "        's3',\n",
    "        aws_access_key_id=s3_access_key_id,\n",
    "        aws_secret_access_key=s3_secret_access_key,\n",
    "        endpoint_url=endpoint_url,\n",
    "        verify=verify\n",
    "    )\n",
    "\n",
    "    # Ensure the S3 folder path ends with a '/'\n",
    "    if not s3_folder.endswith('/'):\n",
    "        s3_folder += '/'\n",
    "\n",
    "    if os.path.isfile(local_path):\n",
    "        # Upload single file\n",
    "        file_name = Path(local_path).name\n",
    "        s3_path = s3_folder + file_name\n",
    "        try:\n",
    "            s3_client.upload_file(local_path, bucket_name, s3_path)\n",
    "            print(f\"Uploaded: {local_path} to {s3_path}\")\n",
    "        except Exception as e:\n",
    "            print(f\"Error uploading {local_path}: {str(e)}\")\n",
    "    elif Path(local_path).is_dir():\n",
    "        # Upload entire folder\n",
    "        for i in tqdm(Path(local_path).ls(),total=len(Path(local_path).ls())):\n",
    "            if i.is_file():\n",
    "                s3_path = s3_folder + i.name\n",
    "                try:\n",
    "                    s3_client.upload_file(str(i), bucket_name, s3_path)\n",
    "                    print(f\"Uploaded: {i} to {s3_path}\")\n",
    "                except Exception as e:\n",
    "                    print(f\"Error uploading {i}: {str(e)}\")\n",
    "            elif i.is_dir():\n",
    "                upload_to_s3(str(i), s3_folder + i.name, bucket_name, s3_access_key_id, s3_secret_access_key)\n",
    "    else:\n",
    "        print(f\"Error: {local_path} is not a valid file or directory\")\n",
    "\n",
    "    print(f\"Upload complete. All files from {local_path} have been uploaded to {s3_folder} in bucket {bucket_name}\")"
   ]
  },
  {
   "cell_type": "code",
   "execution_count": null,
   "id": "fa2f798c",
   "metadata": {},
   "outputs": [],
   "source": [
    "#| export\n",
    "@call_parse\n",
    "def upload_download_s3(\n",
    "    download:Param(help='whether to download or upload',type=bool, action='store_true' ),\n",
    "    verify:Param(help='whether to verify ssl certificates',type=bool, action='store_false'),\n",
    "    local_path:Param(help='local path to the file or folder to upload',type=str)='test',\n",
    "    s3_folder:Param(help='s3 folder path where the file or folder will be uploaded',type=str)='s_test',\n",
    "    bucket_name:Param(help='name of the s3 bucket',type=str)='s3-ai-warstein',\n",
    "):\n",
    "    \"\"\"\n",
    "    Upload a file or folder to S3 bucket. If the folder doesn't exist, it will be created.\n",
    "    \n",
    "    :param local_path: Path to the local file or directory to upload\n",
    "    :param s3_folder: S3 folder path where the file/folder will be uploaded\n",
    "    :param bucket_name: Name of the S3 bucket\n",
    "    :param s3_access_key_id: AWS access key ID\n",
    "    :param s3_secret_access_key: AWS secret access key\n",
    "    \"\"\"\n",
    "    # load env variables\n",
    "    load_dotenv(dotenv_path=f'/home/ai_sintercra/homes/hasan/projects/git_data/2023_easy_pin_detection/private_easy_pin_detection/.env')\n",
    "\n",
    "    # get env variables\n",
    "    s3_access_key_id = os.environ['AWS_ACCESS_KEY_ID']\n",
    "    s3_secret_access_key = os.environ['AWS_SECRET_ACCESS_KEY']\n",
    "    endpoint_url = 'https://s3warceph01.infineon.com'\n",
    "\n",
    "\n",
    "    if download:\n",
    "        download_s3_folder(\n",
    "            s3_folder=s3_folder,\n",
    "            local_dir=local_path,\n",
    "            bucket_name=bucket_name,\n",
    "            s3_access_key_id=s3_access_key_id,\n",
    "            s3_secret_access_key=s3_secret_access_key,\n",
    "            endpoint_url=endpoint_url,\n",
    "            verify=verify\n",
    "        )\n",
    "    else:\n",
    "        upload_to_s3(\n",
    "            local_path=local_path,\n",
    "            s3_folder=s3_folder,\n",
    "            bucket_name=bucket_name,\n",
    "            s3_access_key_id=s3_access_key_id,\n",
    "            s3_secret_access_key=s3_secret_access_key,\n",
    "            endpoint_url=endpoint_url,\n",
    "            verify=verify\n",
    "        )\n",
    "\n",
    "    "
   ]
  },
  {
   "cell_type": "code",
   "execution_count": null,
   "id": "99082c27",
   "metadata": {},
   "outputs": [],
   "source": []
  },
  {
   "cell_type": "code",
   "execution_count": null,
   "id": "2fc7f068",
   "metadata": {},
   "outputs": [],
   "source": []
  },
  {
   "cell_type": "code",
   "execution_count": null,
   "id": "8b0c5eab",
   "metadata": {},
   "outputs": [
    {
     "name": "stdout",
     "output_type": "stream",
     "text": [
      "Uploaded: E:\\test\\81618774_VFV4.1.5.2_2023011217422261_ID_00047043795816187742241_In_17_r_1_FRONT_Missing Lead_image1_var_70.png to projects/2024_Pin_Detection_End_Test/HG/Datasets/test/81618774_VFV4.1.5.2_2023011217422261_ID_00047043795816187742241_In_17_r_1_FRONT_Missing Lead_image1_var_70.png\n",
      "Upload complete. All files from E:\\test have been uploaded to projects/2024_Pin_Detection_End_Test/HG/Datasets/test/ in bucket s3-ai-warstein\n"
     ]
    }
   ],
   "source": [
    "#| hide\n",
    "#| eval: false\n",
    "local_dir = Path(r'E:/test')\n",
    "upload_to_s3(\n",
    "    local_path=local_dir,\n",
    "    s3_folder='projects/2024_Pin_Detection_End_Test/HG/Datasets/test/',\n",
    "    bucket_name='s3-ai-warstein',\n",
    "    s3_access_key_id=os.environ['AWS_ACCESS_KEY_ID'],\n",
    "    s3_secret_access_key=os.environ['AWS_SECRET_ACCESS_KEY'],\n",
    ")"
   ]
  },
  {
   "cell_type": "code",
   "execution_count": null,
   "id": "a6275195",
   "metadata": {},
   "outputs": [],
   "source": [
    "#| hide\n",
    "import nbdev; nbdev.nbdev_export('08_data_processing.s3_bucket.ipynb')"
   ]
  },
  {
   "cell_type": "code",
   "execution_count": null,
   "id": "a3827d21",
   "metadata": {},
   "outputs": [],
   "source": []
  }
 ],
 "metadata": {
  "kernelspec": {
   "display_name": "python3",
   "language": "python",
   "name": "python3"
  }
 },
 "nbformat": 4,
 "nbformat_minor": 5
}
