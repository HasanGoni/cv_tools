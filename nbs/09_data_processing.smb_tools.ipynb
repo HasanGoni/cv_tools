{
 "cells": [
  {
   "cell_type": "markdown",
   "metadata": {},
   "source": [
    "# Get samba related scripts\n",
    "> Samba related tools"
   ]
  },
  {
   "cell_type": "code",
   "execution_count": null,
   "id": "cf96190d",
   "metadata": {},
   "outputs": [],
   "source": [
    "#| default_exp data_processing.smb_tools"
   ]
  },
  {
   "cell_type": "code",
   "execution_count": null,
   "id": "9d4c6dee",
   "metadata": {},
   "outputs": [],
   "source": [
    "#| hide\n",
    "%load_ext autoreload\n",
    "%autoreload 2\n"
   ]
  },
  {
   "cell_type": "code",
   "execution_count": null,
   "id": "3a30f8c6",
   "metadata": {},
   "outputs": [],
   "source": [
    "#| export\n",
    "import sys\n",
    "from pathlib import Path\n"
   ]
  },
  {
   "cell_type": "code",
   "execution_count": null,
   "id": "c43ca447",
   "metadata": {},
   "outputs": [],
   "source": [
    "#| export\n",
    "CV_TOOLS = Path(r'/home/ai_sintercra/homes/hasan/projects/git_data/cv_tools')\n",
    "sys.path.append(str(CV_TOOLS))\n"
   ]
  },
  {
   "cell_type": "code",
   "execution_count": null,
   "id": "de2c2c03",
   "metadata": {},
   "outputs": [],
   "source": [
    "#| export\n",
    "custom_lib_path = Path(r'/home/ai_warstein/homes/goni/custom_libs')\n",
    "sys.path.append(str(custom_lib_path))\n"
   ]
  },
  {
   "cell_type": "code",
   "execution_count": null,
   "id": "7835843c",
   "metadata": {},
   "outputs": [],
   "source": [
    "#| export\n",
    "from cv_tools.imports import *\n",
    "from dotenv import load_dotenv\n",
    "from smb.SMBConnection import SMBConnection\n",
    "from typing import List, Dict, Any"
   ]
  },
  {
   "cell_type": "code",
   "execution_count": null,
   "id": "a79860ce",
   "metadata": {},
   "outputs": [
    {
     "data": {
      "text/plain": [
       "False"
      ]
     },
     "execution_count": null,
     "metadata": {},
     "output_type": "execute_result"
    }
   ],
   "source": [
    "#| export\n",
    "load_dotenv(dotenv_path=f'/home/ai_sintercra/homes/hasan/projects/git_data/cv_tools/cv_tools/.env')"
   ]
  },
  {
   "cell_type": "code",
   "execution_count": null,
   "id": "146f0a59",
   "metadata": {},
   "outputs": [],
   "source": [
    "#| export\n",
    "def get_user_name_password(dotenv_path: str=None):\n",
    "    load_dotenv(dotenv_path=dotenv_path)\n",
    "    USERNAME = os.getenv('ServiceAccUsername')\n",
    "    PASSWORD = os.getenv('ServiceAccPassword')\n",
    "    return USERNAME, PASSWORD\n"
   ]
  },
  {
   "cell_type": "code",
   "execution_count": null,
   "id": "4261fbac",
   "metadata": {},
   "outputs": [],
   "source": [
    "#| export\n",
    "def get_smb_filename(\n",
    "    SERVER: str='MUCSDN57.eu.infineon.com',\n",
    "    SHARE: str='earchive8$',\n",
    "    SMB_PATH: str=r\"Business_Transfer\\WAR\",\n",
    "    filter_ext: str=None,\n",
    "    target_path: str=None,\n",
    "    USERNAME: str=None,\n",
    "    PASSWORD: str=None,\n",
    "    ) -> List[str]:\n",
    "\n",
    "\n",
    "    conn = SMBConnection(\n",
    "        username=USERNAME, \n",
    "        password=PASSWORD, \n",
    "        my_name=SHARE, \n",
    "        remote_name=SERVER, \n",
    "        use_ntlm_v2=True)\n",
    "    conn.connect(SERVER, 139)\n",
    "\n",
    "    try:\n",
    "        # Corrected the path to match the expected SMB path format\n",
    "        file_list = conn.listPath(SHARE, SMB_PATH)\n",
    "        file_list = list(filter(lambda x: not(x.filename.startswith(\".\")), file_list))\n",
    "        if filter_ext:\n",
    "            file_list = list(filter(lambda x: x.filename.endswith(filter_ext), file_list))\n",
    "        file_list_names = []\n",
    "        for fn in file_list:\n",
    "            ## Constructing the SMB path correctly for each file\n",
    "            s_path = SMB_PATH + \"\\\\\" + fn.filename\n",
    "            t_path = Path(target_path, fn.filename)\n",
    "            f_sz = fn.file_size\n",
    "            t_path.parent.mkdir(parents=True, exist_ok=True)\n",
    "            if Path(t_path).is_file():\n",
    "                if Path(t_path).stat().st_size != f_sz:\n",
    "                    file_list_names.append(f\"{s_path}|{t_path}\")\n",
    "            else:\n",
    "                file_list_names.append(f\"{s_path}|{t_path}\")\n",
    "        print(len(file_list_names), len(file_list))\n",
    "        return file_list_names, file_list\n",
    "    \n",
    "    finally:\n",
    "        conn.close()"
   ]
  },
  {
   "cell_type": "code",
   "execution_count": null,
   "id": "9be6fea3",
   "metadata": {},
   "outputs": [],
   "source": [
    "#| export\n",
    "def download_single_file(\n",
    "    smb_filename: str, \n",
    "    SHARE: str,\n",
    "    SERVER: str,\n",
    "    USERNAME: str,\n",
    "    PASSWORD: str,\n",
    "    delete_source: bool = False) -> Dict[str, Any]:\n",
    "    \"\"\"\n",
    "    Downloads a single file from SMB to a local directory and optionally deletes the source file.\n",
    "\n",
    "    Args:\n",
    "    - smb_filename (str): The SMB path of the file to download, followed by a \"|\" and the target local path.\n",
    "    - SHARE (str): SMB share name\n",
    "    - SERVER (str): SMB server name\n",
    "    - USERNAME (str): SMB username\n",
    "    - PASSWORD (str): SMB password \n",
    "    - delete_source (bool): Whether to delete source file after download (default: False)\n",
    "\n",
    "    Returns:\n",
    "    - Dict containing file metadata (name, size)\n",
    "\n",
    "    Example:\n",
    "    >>> download_single_file(\"smb://path/to/file.txt|local/path/to/file.txt\")\n",
    "    \"\"\"\n",
    "    source, target_name = smb_filename.split(\"|\")\n",
    "    target_path = Path(target_name)\n",
    "    target_path.parent.mkdir(parents=True, exist_ok=True)\n",
    "    \n",
    "    conn = SMBConnection(\n",
    "        USERNAME, \n",
    "        PASSWORD, \n",
    "        remote_name=SERVER, \n",
    "        my_name=SHARE,\n",
    "        use_ntlm_v2=True)\n",
    "    conn.connect(SERVER, 139)\n",
    "\n",
    "    file_info = {}\n",
    "    try:\n",
    "        # Get file info before downloading\n",
    "        file_obj = conn.getAttributes(SHARE, source)\n",
    "        file_info = {\n",
    "            'filename': source.split('\\\\')[-1],\n",
    "            'size': file_obj.file_size,\n",
    "            'create_time': file_obj.create_time,\n",
    "            'last_modified': file_obj.last_write_time\n",
    "        }\n",
    "        \n",
    "        # Download file\n",
    "        with open(target_name, 'wb') as fp:\n",
    "            conn.retrieveFile(SHARE, source, fp)\n",
    "\n",
    "        print(f\"File downloaded successfully: {target_name}\")\n",
    "        print(f\"{'-'*100}\")\n",
    "        print(f\"{'-'*100}\")  # Normal color\n",
    "        # Delete source if requested\n",
    "        if delete_source:\n",
    "            print('\\033[91m' + \"Deleting source file: \" + source + '\\033[0m')  # Red color\n",
    "            conn.deleteFiles(SHARE, source)\n",
    "            \n",
    "        return file_info\n",
    "            \n",
    "    finally:\n",
    "        conn.close()"
   ]
  },
  {
   "cell_type": "code",
   "execution_count": null,
   "id": "d1194072",
   "metadata": {},
   "outputs": [],
   "source": [
    "#| export\n",
    "CURRETNT_NB='/home/ai_sintercra/homes/hasan/projects/git_data/cv_tools/nbs'"
   ]
  },
  {
   "cell_type": "code",
   "execution_count": null,
   "id": "a96bd85b",
   "metadata": {},
   "outputs": [],
   "source": []
  },
  {
   "cell_type": "code",
   "execution_count": null,
   "id": "1abeb278",
   "metadata": {},
   "outputs": [],
   "source": [
    "#| hide\n",
    "import nbdev; nbdev.nbdev_export('09_data_processing.smb_tools.ipynb')"
   ]
  },
  {
   "cell_type": "code",
   "execution_count": null,
   "id": "c06381b2",
   "metadata": {},
   "outputs": [],
   "source": []
  }
 ],
 "metadata": {
  "kernelspec": {
   "display_name": "python3",
   "language": "python",
   "name": "python3"
  }
 },
 "nbformat": 4,
 "nbformat_minor": 5
}
