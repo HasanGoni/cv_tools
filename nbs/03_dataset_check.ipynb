{
 "cells": [
  {
   "cell_type": "markdown",
   "metadata": {},
   "source": [
    "# dataset check "
   ]
  },
  {
   "cell_type": "markdown",
   "metadata": {},
   "source": [
    "> Before or after training, we want to check dataset, this checking functionality will be used here"
   ]
  },
  {
   "cell_type": "code",
   "execution_count": null,
   "metadata": {},
   "outputs": [],
   "source": [
    "#| default_exp dataset_check"
   ]
  },
  {
   "cell_type": "code",
   "execution_count": 2,
   "metadata": {},
   "outputs": [],
   "source": [
    "#| export\n",
    "import os\n",
    "import shutil\n",
    "from IPython.display import display, clear_output\n",
    "import io\n",
    "from PIL import Image as Image\n",
    "from ipywidgets import (widgets, Button,\n",
    "                        HBox, VBox, Layout)\n",
    "from ipywidgets import Image as WImage\n",
    "from pathlib import Path\n",
    "import numpy as np\n",
    "from fastcore.all import *\n",
    "from typing import List, Union, Any, Callable"
   ]
  },
  {
   "cell_type": "code",
   "execution_count": 3,
   "metadata": {},
   "outputs": [],
   "source": [
    "#| export\n",
    "from ipywidgets.widgets import Button"
   ]
  },
  {
   "cell_type": "code",
   "execution_count": 9,
   "metadata": {},
   "outputs": [],
   "source": [
    "#| export\n",
    "def display_image_row(\n",
    "        im_path:Union[Path, str],\n",
    "        move_path:Union[Path, str],\n",
    "        max_images:int=10,\n",
    "        start:int=0,\n",
    "        im_height:int=100,\n",
    "        im_width:int=100,\n",
    "    ): \n",
    "\n",
    "\n",
    "    Path(move_path).mkdir(exist_ok=True, parents=True)\n",
    "\n",
    "    def on_next_click(b):\n",
    "        nonlocal start\n",
    "\n",
    "        start = start + max_images\n",
    "        print(f' start = {start}')\n",
    "        clear_output(wait=True)\n",
    "        display_image_row(\n",
    "            im_path,\n",
    "            move_path,\n",
    "            max_images,\n",
    "            start, \n",
    "            im_height,\n",
    "            im_width\n",
    "        )\n",
    "    def on_prev_click(b):\n",
    "        nonlocal start\n",
    "        start = max( 0, start - max_images)\n",
    "        clear_output(wait=True)\n",
    "        display_image_row(\n",
    "            im_path,\n",
    "            move_path,\n",
    "            max_images,\n",
    "            start,\n",
    "            im_height,\n",
    "            im_width\n",
    "        )\n",
    "    def on_move_click(\n",
    "            b,\n",
    "            file_name,\n",
    "        ):\n",
    "        source_path = Path(im_path, file_name)\n",
    "        destination_path = Path(move_path, file_name)\n",
    "        shutil.move(source_path, destination_path)\n",
    "        clear_output(wait=True)\n",
    "        display_image_row(\n",
    "            im_path,\n",
    "            move_path,\n",
    "            max_images,\n",
    "            start,\n",
    "            im_height,\n",
    "            im_width\n",
    "        )\n",
    "    clear_output(wait=True)\n",
    "\n",
    "    files = sorted(im_path.ls(file_exts=['.png', '.tif']))\n",
    "    files_to_d = files[start:start + max_images]\n",
    "\n",
    "    image_boxes = []\n",
    "    \n",
    "    for file in files_to_d:\n",
    "        name_ = Path(file).name\n",
    "        image_path = Path(im_path, name_)\n",
    "\n",
    "        with Image.open(image_path) as pil_img:\n",
    "            img_byte_arr = io.BytesIO()\n",
    "            pil_img.save(img_byte_arr, format='PNG')\n",
    "            img_widget = WImage(\n",
    "                value=img_byte_arr.getvalue(),\n",
    "                format='png',\n",
    "                width=im_width,\n",
    "                height=im_height\n",
    "                )\n",
    "            \n",
    "            btn_del = widgets.Button(description='Delete')\n",
    "            btn_move = widgets.Button(description='Move')\n",
    "\n",
    "            btn_move.on_click(lambda b,f=name_: on_move_click(b, f))\n",
    "\n",
    "            box = VBox(\n",
    "                [\n",
    "                    img_widget,\n",
    "                    HBox([btn_del, btn_move])\n",
    "                    ])\n",
    "            image_boxes.append(box)\n",
    "\n",
    "\n",
    "    btn_next = Button(description='Next') \n",
    "    btn_prev = Button(description='Prev') \n",
    "\n",
    "    if start > 0 : \n",
    "        print(f'start = {start}')\n",
    "        print(f'max = {max_images}')\n",
    "        btn_prev.on_click(on_prev_click)\n",
    "    if start + max_images < len(files):\n",
    "        btn_next.on_click(on_next_click)\n",
    "\n",
    "    nav = HBox([btn_prev, btn_next])\n",
    "    display(\n",
    "        HBox(image_boxes, Layout=Layout(\n",
    "            flex_flow='row_wrap', \n",
    "            align_items='center',\n",
    "        ))\n",
    "    )\n",
    "    display(nav)\n",
    "    \n"
   ]
  },
  {
   "cell_type": "code",
   "execution_count": null,
   "metadata": {},
   "outputs": [],
   "source": [
    "data_path = Path(r'N:\\homes\\hasan\\easy_front\\overlay_path')\n",
    "move_path = Path(r'N:\\homes\\hasan\\easy_front\\overlay_path_old')\n"
   ]
  },
  {
   "cell_type": "code",
   "execution_count": 5,
   "metadata": {},
   "outputs": [
    {
     "data": {
      "application/vnd.jupyter.widget-view+json": {
       "model_id": "d5690a62189945ea9fb8312d537cbe80",
       "version_major": 2,
       "version_minor": 0
      },
      "text/plain": [
       "Button(description='Click Me!', style=ButtonStyle())"
      ]
     },
     "metadata": {},
     "output_type": "display_data"
    },
    {
     "data": {
      "application/vnd.jupyter.widget-view+json": {
       "model_id": "2ed7fba634014b86af5281faf62eae35",
       "version_major": 2,
       "version_minor": 0
      },
      "text/plain": [
       "Output()"
      ]
     },
     "metadata": {},
     "output_type": "display_data"
    }
   ],
   "source": [
    "from IPython.display import display\n",
    "button = widgets.Button(description=\"Click Me!\")\n",
    "output = widgets.Output()\n",
    "\n",
    "display(button, output)\n",
    "\n",
    "def on_button_clicked(b):\n",
    "    with output:\n",
    "        print(\"Button clicked.\")\n",
    "\n",
    "button.on_click(on_button_clicked)"
   ]
  },
  {
   "cell_type": "code",
   "execution_count": 6,
   "metadata": {},
   "outputs": [
    {
     "data": {
      "text/plain": [
       "(#2) [Path('N:/homes/hasan/easy_front/overlay_path/module_1_side_left_intCycle1_MSA_Cl_0_270912023827_1_2_idx_13.png'),Path('N:/homes/hasan/easy_front/overlay_path/module_1_side_left_intCycle1_MSA_Cl_0_270912023827_1_2_idx_14.png')]"
      ]
     },
     "execution_count": 6,
     "metadata": {},
     "output_type": "execute_result"
    }
   ],
   "source": [
    "data_path.ls()"
   ]
  },
  {
   "cell_type": "code",
   "execution_count": 10,
   "metadata": {},
   "outputs": [],
   "source": [
    "data_path = Path(r'N:\\homes\\Carsten\\Rec23_iwis_Gurt_pins_single_pin')"
   ]
  },
  {
   "cell_type": "code",
   "execution_count": null,
   "metadata": {},
   "outputs": [
    {
     "name": "stdout",
     "output_type": "stream",
     "text": [
      "start = 60\n",
      "max = 10\n"
     ]
    },
    {
     "data": {
      "application/vnd.jupyter.widget-view+json": {
       "model_id": "ad0fbf135a7c485198c3cc3bb3e379d5",
       "version_major": 2,
       "version_minor": 0
      },
      "text/plain": [
       "HBox(children=(VBox(children=(Image(value=b'\\x89PNG\\r\\n\\x1a\\n\\x00\\x00\\x00\\rIHDR\\x00\\x00\\x00\\x80\\x00\\x00\\x00\\x8…"
      ]
     },
     "metadata": {},
     "output_type": "display_data"
    },
    {
     "data": {
      "application/vnd.jupyter.widget-view+json": {
       "model_id": "adec061ee99e4825adfd44c9e6ac7498",
       "version_major": 2,
       "version_minor": 0
      },
      "text/plain": [
       "HBox(children=(Button(description='Prev', style=ButtonStyle()), Button(description='Next', style=ButtonStyle()…"
      ]
     },
     "metadata": {},
     "output_type": "display_data"
    }
   ],
   "source": [
    "display_image_row(\n",
    "   im_path=data_path, \n",
    "   move_path=move_path,\n",
    "   max_images=10,\n",
    "   start=0,\n",
    "   im_height=100,\n",
    "   im_width=100\n",
    ")"
   ]
  },
  {
   "cell_type": "code",
   "execution_count": 1,
   "metadata": {},
   "outputs": [],
   "source": [
    "#| hide\n",
    "import nbdev; nbdev.nbdev_export()"
   ]
  },
  {
   "cell_type": "code",
   "execution_count": null,
   "metadata": {},
   "outputs": [],
   "source": []
  }
 ],
 "metadata": {
  "kernelspec": {
   "display_name": "python3",
   "language": "python",
   "name": "python3"
  },
  "language_info": {
   "codemirror_mode": {
    "name": "ipython",
    "version": 3
   },
   "file_extension": ".py",
   "mimetype": "text/x-python",
   "name": "python",
   "nbconvert_exporter": "python",
   "pygments_lexer": "ipython3",
   "version": "3.10.14"
  }
 },
 "nbformat": 4,
 "nbformat_minor": 2
}
