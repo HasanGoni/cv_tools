{
 "cells": [
  {
   "cell_type": "markdown",
   "metadata": {},
   "source": [
    "# dataset check "
   ]
  },
  {
   "cell_type": "markdown",
   "metadata": {},
   "source": [
    "> Before or after training, we want to check dataset, this checking functionality will be used here"
   ]
  },
  {
   "cell_type": "code",
   "execution_count": null,
   "metadata": {},
   "outputs": [],
   "source": [
    "#| default_exp dataset_check"
   ]
  },
  {
   "cell_type": "code",
   "execution_count": null,
   "metadata": {},
   "outputs": [],
   "source": [
    "#| export\n",
    "import os\n",
    "import shutil\n",
    "from IPython.display import display, clear_output\n",
    "import io\n",
    "from PIL import Image as Image\n",
    "from ipywidgets import (widgets, Button,\n",
    "                        HBox, VBox, Layout)\n",
    "from ipywidgets import Image as WImage\n",
    "from pathlib import Path\n",
    "import numpy as np\n",
    "from fastcore.all import *\n",
    "from typing import List, Union, Any, Callable"
   ]
  },
  {
   "cell_type": "code",
   "execution_count": null,
   "metadata": {},
   "outputs": [],
   "source": [
    "#| export\n",
    "from ipywidgets.widgets import Button"
   ]
  },
  {
   "cell_type": "code",
   "execution_count": null,
   "metadata": {},
   "outputs": [
    {
     "data": {
      "application/vnd.jupyter.widget-view+json": {
       "model_id": "bbe28caa8acc4440a52a2de70e24439b",
       "version_major": 2,
       "version_minor": 0
      },
      "text/plain": [
       "HBox(children=(VBox(children=(Image(value=b'\\x89PNG\\r\\n\\x1a\\n\\x00\\x00\\x00\\rIHDR\\x00\\x00\\x01\\x00\\x00\\x00\\x01\\x0…"
      ]
     },
     "metadata": {},
     "output_type": "display_data"
    },
    {
     "data": {
      "application/vnd.jupyter.widget-view+json": {
       "model_id": "71f47ec11449437bac10dc0a5663cc5d",
       "version_major": 2,
       "version_minor": 0
      },
      "text/plain": [
       "HBox(children=(Button(description='Prev', style=ButtonStyle()), Button(description='Next', style=ButtonStyle()…"
      ]
     },
     "metadata": {},
     "output_type": "display_data"
    }
   ],
   "source": [
    "#| export\n",
    "def display_image_row(\n",
    "        im_path:Union[Path, str],\n",
    "        move_path:Union[Path, str],\n",
    "        max_images:int=10,\n",
    "        start:int=0,\n",
    "        im_height:int=100,\n",
    "        im_width:int=100,\n",
    "    ): \n",
    "\n",
    "\n",
    "    Path(move_path).mkdir(exist_ok=True, parents=True)\n",
    "\n",
    "    def on_next_click(b):\n",
    "        nonlocal start\n",
    "\n",
    "        start = start + max_images\n",
    "        print(f' start = {start}')\n",
    "        clear_output(wait=True)\n",
    "        display_image_row(\n",
    "            im_path,\n",
    "            move_path,\n",
    "            max_images,\n",
    "            start, \n",
    "            im_height,\n",
    "            im_width\n",
    "        )\n",
    "    def on_prev_click(b):\n",
    "        nonlocal start\n",
    "        start = max( 0, start - max_images)\n",
    "        clear_output(wait=True)\n",
    "        display_image_row(\n",
    "            im_path,\n",
    "            move_path,\n",
    "            max_images,\n",
    "            start,\n",
    "            im_height,\n",
    "            im_width\n",
    "        )\n",
    "    def on_move_click(\n",
    "            b,\n",
    "            file_name,\n",
    "        ):\n",
    "        source_path = Path(im_path, file_name)\n",
    "        destination_path = Path(move_path, file_name)\n",
    "        shutil.move(source_path, destination_path)\n",
    "        clear_output(wait=True)\n",
    "        display_image_row(\n",
    "            im_path,\n",
    "            move_path,\n",
    "            max_images,\n",
    "            start,\n",
    "            im_height,\n",
    "            im_width\n",
    "        )\n",
    "    clear_output(wait=True)\n",
    "\n",
    "    files = sorted(im_path.ls(file_exts=['.png', '.tif']))\n",
    "    files_to_d = files[start:start + max_images]\n",
    "\n",
    "    image_boxes = []\n",
    "    \n",
    "    for file in files_to_d:\n",
    "        name_ = Path(file).name\n",
    "        image_path = Path(im_path, name_)\n",
    "\n",
    "        with Image.open(image_path) as pil_img:\n",
    "            img_byte_arr = io.BytesIO()\n",
    "            pil_img.save(img_byte_arr, format='PNG')\n",
    "            img_widget = WImage(\n",
    "                value=img_byte_arr.getvalue(),\n",
    "                format='png',\n",
    "                width=im_width,\n",
    "                height=im_height\n",
    "                )\n",
    "            \n",
    "            btn_del = widgets.Button(description='Delete')\n",
    "            btn_move = widgets.Button(description='Move')\n",
    "\n",
    "            btn_move.on_click(lambda b,f=name_: on_move_click(b, f))\n",
    "\n",
    "            box = VBox(\n",
    "                [\n",
    "                    img_widget,\n",
    "                    HBox([btn_del, btn_move])\n",
    "                    ])\n",
    "            image_boxes.append(box)\n",
    "\n",
    "\n",
    "    btn_next = Button(description='Next') \n",
    "    btn_prev = Button(description='Prev') \n",
    "\n",
    "    if start > 0 : \n",
    "        print(f'start = {start}')\n",
    "        print(f'max = {max_images}')\n",
    "        btn_prev.on_click(on_prev_click)\n",
    "    if start + max_images < len(files):\n",
    "        btn_next.on_click(on_next_click)\n",
    "\n",
    "    nav = HBox([btn_prev, btn_next])\n",
    "    display(\n",
    "        HBox(image_boxes, Layout=Layout(\n",
    "            flex_flow='row_wrap', \n",
    "            align_items='center',\n",
    "        ))\n",
    "    )\n",
    "    display(nav)\n",
    "data_path = Path(r'N:\\homes\\hasan\\easy_front\\overlay_path')\n",
    "move_path = Path(r'N:\\homes\\hasan\\easy_front\\overlay_path_old')\n"
   ]
  },
  {
   "cell_type": "code",
   "execution_count": null,
   "metadata": {},
   "outputs": [
    {
     "data": {
      "application/vnd.jupyter.widget-view+json": {
       "model_id": "758b2ad4cf764b048e623d78d1a44436",
       "version_major": 2,
       "version_minor": 0
      },
      "text/plain": [
       "Button(description='Click Me!', style=ButtonStyle())"
      ]
     },
     "metadata": {},
     "output_type": "display_data"
    },
    {
     "data": {
      "application/vnd.jupyter.widget-view+json": {
       "model_id": "22e13f1ee7f446f8b6ee327eed96ce76",
       "version_major": 2,
       "version_minor": 0
      },
      "text/plain": [
       "Output()"
      ]
     },
     "metadata": {},
     "output_type": "display_data"
    }
   ],
   "source": [
    "from IPython.display import display\n",
    "button = widgets.Button(description=\"Click Me!\")\n",
    "output = widgets.Output()\n",
    "\n",
    "display(button, output)\n",
    "\n",
    "def on_button_clicked(b):\n",
    "    with output:\n",
    "        print(\"Button clicked.\")\n",
    "\n",
    "button.on_click(on_button_clicked)"
   ]
  },
  {
   "cell_type": "code",
   "execution_count": null,
   "metadata": {},
   "outputs": [
    {
     "data": {
      "text/plain": [
       "(#3) [Path('N:/homes/hasan/easy_front/overlay_path/module_1_side_left_intCycle1_MSA_Cl_0_270912023827_1_2_idx_12.png'),Path('N:/homes/hasan/easy_front/overlay_path/module_1_side_left_intCycle1_MSA_Cl_0_270912023827_1_2_idx_13.png'),Path('N:/homes/hasan/easy_front/overlay_path/module_1_side_left_intCycle1_MSA_Cl_0_270912023827_1_2_idx_14.png')]"
      ]
     },
     "execution_count": null,
     "metadata": {},
     "output_type": "execute_result"
    }
   ],
   "source": [
    "data_path.ls()"
   ]
  },
  {
   "cell_type": "code",
   "execution_count": null,
   "metadata": {},
   "outputs": [
    {
     "data": {
      "application/vnd.jupyter.widget-view+json": {
       "model_id": "41adacd56d0e46e4bdaa85d04c1ec6a4",
       "version_major": 2,
       "version_minor": 0
      },
      "text/plain": [
       "HBox(children=(VBox(children=(Image(value=b'\\x89PNG\\r\\n\\x1a\\n\\x00\\x00\\x00\\rIHDR\\x00\\x00\\x01\\x00\\x00\\x00\\x01\\x0…"
      ]
     },
     "metadata": {},
     "output_type": "display_data"
    },
    {
     "data": {
      "application/vnd.jupyter.widget-view+json": {
       "model_id": "aba3f6fbd4604eb19ae6b7b379b86a91",
       "version_major": 2,
       "version_minor": 0
      },
      "text/plain": [
       "HBox(children=(Button(description='Prev', style=ButtonStyle()), Button(description='Next', style=ButtonStyle()…"
      ]
     },
     "metadata": {},
     "output_type": "display_data"
    }
   ],
   "source": [
    "display_image_row(\n",
    "   im_path=data_path, \n",
    "   move_path=move_path,\n",
    "   max_images=10,\n",
    "   start=0,\n",
    "   im_height=100,\n",
    "   im_width=100\n",
    ")"
   ]
  },
  {
   "cell_type": "code",
   "execution_count": null,
   "metadata": {},
   "outputs": [
    {
     "data": {
      "text/plain": [
       "((#1639) [Path('/home/user/Schreibtisch/projects/data/easy_front/Cropped_Images_png/2_1_CroppedImg_20231018_92536201_5_A.png'),Path('/home/user/Schreibtisch/projects/data/easy_front/Cropped_Images_png/1_4_CroppedImg_20231018_92329777_33_B.png'),Path('/home/user/Schreibtisch/projects/data/easy_front/Cropped_Images_png/2_1_CroppedImg_20231018_92536201_25_A.png'),Path('/home/user/Schreibtisch/projects/data/easy_front/Cropped_Images_png/2_2_CroppedImg_20231018_92536201_24_A.png'),Path('/home/user/Schreibtisch/projects/data/easy_front/Cropped_Images_png/3_4_CroppedImg_20231018_92716715_21_B.png'),Path('/home/user/Schreibtisch/projects/data/easy_front/Cropped_Images_png/0_1_CroppedImg_20231018_92042317_7_A.png'),Path('/home/user/Schreibtisch/projects/data/easy_front/Cropped_Images_png/3_3_CroppedImg_20231018_92716715_26_B.png'),Path('/home/user/Schreibtisch/projects/data/easy_front/Cropped_Images_png/2_2_CroppedImg_20231018_92536201_17_A.png'),Path('/home/user/Schreibtisch/projects/data/easy_front/Cropped_Images_png/0_1_CroppedImg_20231018_92042317_39_B.png'),Path('/home/user/Schreibtisch/projects/data/easy_front/Cropped_Images_png/2_2_CroppedImg_20231018_92536201_12_A.png')...],\n",
       " (#1482) [Path('/home/user/Schreibtisch/projects/data/easy_front/per_sam_masks/2_1_CroppedImg_20231018_92536201_5_A.png'),Path('/home/user/Schreibtisch/projects/data/easy_front/per_sam_masks/1_4_CroppedImg_20231018_92329777_33_B.png'),Path('/home/user/Schreibtisch/projects/data/easy_front/per_sam_masks/2_1_CroppedImg_20231018_92536201_25_A.png'),Path('/home/user/Schreibtisch/projects/data/easy_front/per_sam_masks/2_2_CroppedImg_20231018_92536201_24_A.png'),Path('/home/user/Schreibtisch/projects/data/easy_front/per_sam_masks/3_4_CroppedImg_20231018_92716715_21_B.png'),Path('/home/user/Schreibtisch/projects/data/easy_front/per_sam_masks/0_1_CroppedImg_20231018_92042317_7_A.png'),Path('/home/user/Schreibtisch/projects/data/easy_front/per_sam_masks/3_3_CroppedImg_20231018_92716715_26_B.png'),Path('/home/user/Schreibtisch/projects/data/easy_front/per_sam_masks/2_2_CroppedImg_20231018_92536201_17_A.png'),Path('/home/user/Schreibtisch/projects/data/easy_front/per_sam_masks/0_1_CroppedImg_20231018_92042317_39_B.png'),Path('/home/user/Schreibtisch/projects/data/easy_front/per_sam_masks/2_2_CroppedImg_20231018_92536201_12_A.png')...])"
      ]
     },
     "execution_count": null,
     "metadata": {},
     "output_type": "execute_result"
    }
   ],
   "source": [
    "HOME = Path.home()\n",
    "crop_im_path = Path(fr'{HOME}/Schreibtisch/projects/data/easy_front/Cropped_Images_png')\n",
    "move_path = Path(fr'{HOME}/Schreibtisch/projects/data/easy_front/move_path_old')\n",
    "mask_path = Path(fr'{HOME}/Schreibtisch/projects/data/easy_front/per_sam_masks')\n",
    "overlay_mask_path = Path(fr'{HOME}/Schreibtisch/projects/data/easy_front/overlay_masks_old_data')\n",
    "overlay_mask_path.mkdir(exist_ok=True, parents=True)\n",
    "crop_im_path.ls(), mask_path.ls()"
   ]
  },
  {
   "cell_type": "code",
   "execution_count": null,
   "metadata": {},
   "outputs": [],
   "source": [
    "#| hide\n",
    "import nbdev; nbdev.nbdev_export()"
   ]
  },
  {
   "cell_type": "code",
   "execution_count": null,
   "metadata": {},
   "outputs": [],
   "source": []
  }
 ],
 "metadata": {
  "kernelspec": {
   "display_name": "python3",
   "language": "python",
   "name": "python3"
  }
 },
 "nbformat": 4,
 "nbformat_minor": 2
}
