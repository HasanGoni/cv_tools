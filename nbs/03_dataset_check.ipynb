{
 "cells": [
  {
   "cell_type": "markdown",
   "metadata": {},
   "source": [
    "# dataset check "
   ]
  },
  {
   "cell_type": "markdown",
   "metadata": {},
   "source": [
    "> Before or after training, we want to check dataset, this checking functionality will be used here"
   ]
  },
  {
   "cell_type": "code",
   "execution_count": null,
   "metadata": {},
   "outputs": [
    {
     "ename": "",
     "evalue": "",
     "output_type": "error",
     "traceback": [
      "\u001b[1;31mFailed to start the Kernel. \n",
      "\u001b[1;31mUnable to start Kernel 'fast_test (Python 3.9.16)' due to a connection timeout. \n",
      "\u001b[1;31mView Jupyter <a href='command:jupyter.viewOutput'>log</a> for further details."
     ]
    }
   ],
   "source": [
    "#| default_exp dataset_check"
   ]
  },
  {
   "cell_type": "code",
   "execution_count": null,
   "metadata": {},
   "outputs": [
    {
     "ename": "",
     "evalue": "",
     "output_type": "error",
     "traceback": [
      "\u001b[1;31mFailed to start the Kernel. \n",
      "\u001b[1;31mUnable to start Kernel 'fast_test (Python 3.9.16)' due to a connection timeout. \n",
      "\u001b[1;31mView Jupyter <a href='command:jupyter.viewOutput'>log</a> for further details."
     ]
    }
   ],
   "source": [
    "#| export\n",
    "import os\n",
    "import shutil\n",
    "from IPython.display import display, clear_output\n",
    "import io\n",
    "from PIL import Image as Image\n",
    "from ipywidgets import (widgets, Button,\n",
    "                        HBox, VBox, Layout)\n",
    "from ipywidgets import Image as WImage\n",
    "from pathlib import Path\n",
    "import numpy as np\n",
    "from fastcore.all import *\n",
    "from typing import List, Union, Any, Callable"
   ]
  },
  {
   "cell_type": "code",
   "execution_count": null,
   "metadata": {},
   "outputs": [
    {
     "ename": "",
     "evalue": "",
     "output_type": "error",
     "traceback": [
      "\u001b[1;31mFailed to start the Kernel. \n",
      "\u001b[1;31mUnable to start Kernel 'fast_test (Python 3.9.16)' due to a connection timeout. \n",
      "\u001b[1;31mView Jupyter <a href='command:jupyter.viewOutput'>log</a> for further details."
     ]
    }
   ],
   "source": [
    "#| export\n",
    "def display_image_row(\n",
    "        im_path:Union[Path, str],\n",
    "        move_path:Union[Path, str],\n",
    "        max_images:int=10,\n",
    "        start:int=0,\n",
    "        im_height:int=100,\n",
    "        im_width:int=100,\n",
    "    ): \n",
    "\n",
    "    def on_next_click(b):\n",
    "        nonlocal start\n",
    "\n",
    "        start = start + max_images\n",
    "        print(f' start = {start}')\n",
    "        clear_output(wait=True)\n",
    "        display_image_row(\n",
    "            im_path,\n",
    "            move_path,\n",
    "            max_images,\n",
    "            start, \n",
    "            im_height,\n",
    "            im_width\n",
    "        )\n",
    "    def on_prev_click(b):\n",
    "        nonlocal start\n",
    "        start = max( 0, start - max_images)\n",
    "        clear_output(wait=True)\n",
    "        display_image_row(\n",
    "            im_path,\n",
    "            move_path,\n",
    "            max_images,\n",
    "            start,\n",
    "            im_height,\n",
    "            im_width\n",
    "        )\n",
    "    def on_move_click(\n",
    "            b,\n",
    "            file_name):\n",
    "        source_path = Path(im_path, file_name)\n",
    "        destination_path = Path(move_path, file_name)\n",
    "        shutil.move(source_path, destination_path)\n",
    "        clear_output(wait=True)\n",
    "        display_image_row(\n",
    "            im_path,\n",
    "            move_path,\n",
    "            max_images,\n",
    "            start,\n",
    "            im_height,\n",
    "            im_width\n",
    "        )\n",
    "    clear_output(wait=True)\n",
    "\n",
    "    files = sorted(im_path.ls(file_exts=['.png', '.tif']))\n",
    "    files_to_d = files[start:start + max_images]\n",
    "\n",
    "    image_boxes = []\n",
    "    \n",
    "    for file in files_to_d:\n",
    "        name_ = Path(file).name\n",
    "        image_path = Path(im_path, name_)\n",
    "\n",
    "        with Image.open(image_path) as pil_img:\n",
    "            img_byte_arr = io.BytesIO()\n",
    "            pil_img.save(img_byte_arr, format='PNG')\n",
    "            img_widget = WImage(\n",
    "                value=img_byte_arr.getvalue(),\n",
    "                format='png',\n",
    "                width=im_width,\n",
    "                height=im_height\n",
    "                )\n",
    "            \n",
    "            btn_del = Button(description='Delete')\n",
    "            btn_move = Button(description='Move')\n",
    "\n",
    "            btn_move.on_click(\n",
    "                lambda b, f=name_: on_move_click(b, f)\n",
    "            )\n",
    "\n",
    "            box = VBox(\n",
    "                [\n",
    "                    img_widget,\n",
    "                    HBox([btn_del, btn_move])\n",
    "                    ])\n",
    "            image_boxes.append(box)\n",
    "\n",
    "\n",
    "    btn_next = Button(description='Next') \n",
    "    btn_prev = Button(description='Prev') \n",
    "\n",
    "    if start > 0 : \n",
    "        print(f'start = {start}')\n",
    "        print(f'max = {max_images}')\n",
    "        btn_prev.on_click(on_prev_click)\n",
    "    if start + max_images < len(files):\n",
    "        btn_next.on_click(on_next_click)\n",
    "\n",
    "    nav = HBox([btn_prev, btn_next])\n",
    "    display(\n",
    "        HBox(image_boxes, Layout=Layout(\n",
    "            flex_flow='row_wrap', \n",
    "            align_items='center',\n",
    "        ))\n",
    "    )\n",
    "    display(nav)\n",
    "\n",
    "\n",
    "        \n"
   ]
  },
  {
   "cell_type": "code",
   "execution_count": null,
   "metadata": {},
   "outputs": [
    {
     "ename": "",
     "evalue": "",
     "output_type": "error",
     "traceback": [
      "\u001b[1;31mFailed to start the Kernel. \n",
      "\u001b[1;31mUnable to start Kernel 'fast_test (Python 3.9.16)' due to a connection timeout. \n",
      "\u001b[1;31mView Jupyter <a href='command:jupyter.viewOutput'>log</a> for further details."
     ]
    }
   ],
   "source": [
    "#| hide\n",
    "import nbdev, nbdev.nbdev_export('03_datset_check.ipynb')"
   ]
  },
  {
   "cell_type": "code",
   "execution_count": null,
   "metadata": {},
   "outputs": [],
   "source": []
  }
 ],
 "metadata": {
  "kernelspec": {
   "display_name": "python3",
   "language": "python",
   "name": "python3"
  }
 },
 "nbformat": 4,
 "nbformat_minor": 2
}
