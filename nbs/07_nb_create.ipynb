{
 "cells": [
  {
   "cell_type": "code",
   "execution_count": null,
   "id": "e67ea89f",
   "metadata": {},
   "outputs": [],
   "source": [
    "#| default_exp create_nb"
   ]
  },
  {
   "cell_type": "markdown",
   "id": "9cf548dd",
   "metadata": {},
   "source": [
    "# Create a custom notebook for custom_lib_path\n",
    "> create custom notebook"
   ]
  },
  {
   "cell_type": "markdown",
   "id": "663ec4c4",
   "metadata": {},
   "source": [
    "- Copied notebook from [here](https://github.com/muellerzr/nbdev-extensions/blob/main/nbs/00_mknb.ipynb), just changed and corrected some mistake"
   ]
  },
  {
   "cell_type": "code",
   "execution_count": null,
   "id": "474b8b42",
   "metadata": {},
   "outputs": [],
   "source": [
    "#| hide\n",
    "from nbdev.showdoc import *"
   ]
  },
  {
   "cell_type": "code",
   "execution_count": null,
   "id": "caf0aff0",
   "metadata": {},
   "outputs": [],
   "source": [
    "#| export\n",
    "import re\n",
    "from string import Template\n",
    "\n",
    "from nbdev.config import get_config\n",
    "from nbdev.sync import write_nb, mk_cell\n",
    "from nbdev.doclinks import nbglob\n",
    "\n",
    "from fastcore.xtras import Path\n",
    "\n",
    "from fastcore.foundation import AttrDict, L\n",
    "from fastcore.script import call_parse"
   ]
  },
  {
   "cell_type": "code",
   "execution_count": null,
   "id": "2935e507",
   "metadata": {},
   "outputs": [],
   "source": [
    "\n",
    "#| export\n",
    "_default_exp = Template(\"#| default_exp $export\")\n",
    "_title = Template(\"# $title\\n\")\n",
    "_description = Template(\"> $description\")\n",
    "_custom_lib = \"#| export\\ncustom_lib_path = Path(r'/home/ai_warstein/homes/goni/custom_libs')\\sys.path.append(custom_lib_path)\\n\"\n",
    "_cv_tools= \"#| export\\ncv_tools = Path(r'/home/ai_warstein/homes/goni/custom_libs')\\sys.path.append(custom_lib_path)\\n\"\n",
    "_export = \"#| hide\\nimport nbdev; nbdev.nbdev_export()\""
   ]
  },
  {
   "cell_type": "code",
   "execution_count": null,
   "id": "daf6ade7",
   "metadata": {},
   "outputs": [],
   "source": [
    "#| export\n",
    "def extract_prefix(name):\n",
    "    match = re.match(r'^(\\d+)_', name)\n",
    "    if match:\n",
    "        return match.group(1)\n",
    "    return None"
   ]
  },
  {
   "cell_type": "code",
   "execution_count": null,
   "id": "e15569bf",
   "metadata": {},
   "outputs": [],
   "source": [
    "#| export\n",
    "def _mk_nb(title,desc,exp=None):\n",
    "    nb = AttrDict(\n",
    "        cells=L(),\n",
    "        metadata={},\n",
    "        nbformat=4,\n",
    "        nbformat_minor=5\n",
    "    )\n",
    "    if exp is not None: \n",
    "        nb.cells.append(mk_cell(exp))\n",
    "    nb.cells.append(mk_cell(title+desc, \"markdown\"))\n",
    "    nb.cells.append(mk_cell(_cv_tools))\n",
    "    nb.cells.append(mk_cell(_custom_lib))\n",
    "    nb.cells.append(mk_cell(\"\", outputs=[], execution_count=0))\n",
    "    if exp is not None:\n",
    "        nb.cells.append(mk_cell(_export))\n",
    "    nb.cells = list(nb.cells)\n",
    "    # return dict(nb)\n",
    "    return nb"
   ]
  },
  {
   "cell_type": "code",
   "execution_count": null,
   "id": "5dc3d1e7",
   "metadata": {},
   "outputs": [],
   "source": [
    "#| export\n",
    "@call_parse\n",
    "def create_nb(\n",
    "    name:str, # The name of the newly created notebook\n",
    "    module:str = None, # The name of the exported module it will generate\n",
    "    title:str = None, # The title header in the notebook\n",
    "    description:str = None, # The description that will go under the title header\n",
    "):\n",
    "    \"Creates a new base nbdev notebook named {nprefix}{nsuffix}_{name}.ipynb\"\n",
    "    cfg = get_config()\n",
    "    nbs = nbglob(\n",
    "        cfg.nbs_path,\n",
    "        file_glob=\"*.ipynb\",\n",
    "        file_re=\"^[0-9]\",\n",
    "        skip_folder_re=\"^[_.]\"\n",
    "    )\n",
    "    nbs = nbs.map(\n",
    "        lambda x: Path(x).name.replace(\".ipynb\",\"\")\n",
    "    )\n",
    "    nbs.sort()\n",
    "    title = _title.substitute(title=title or \"No Title\")\n",
    "    descrip = _description.substitute(description=description or \"Fill me in!\")\n",
    "    if module is not None:\n",
    "        module = _default_exp.substitute(export=module)\n",
    "\n",
    "    if len(nbs) > 0:\n",
    "        nums = nbs.map(\n",
    "            lambda x: extract_prefix(x)\n",
    "       )\n",
    "        prefix = sorted(nums)[-1]\n",
    "        new_prefix = int(prefix) + 1\n",
    "    else:\n",
    "        new_prefix = '00'\n",
    "\n",
    "    nbpath = cfg.nbs_path/f'{new_prefix}_{name}.ipynb'\n",
    "    write_nb(_mk_nb(title, descrip, module), nbpath)"
   ]
  },
  {
   "cell_type": "code",
   "execution_count": null,
   "id": "8372d385",
   "metadata": {},
   "outputs": [],
   "source": []
  },
  {
   "cell_type": "code",
   "execution_count": null,
   "id": "1ec922d8",
   "metadata": {},
   "outputs": [],
   "source": [
    "#| hide\n",
    "import nbdev; nbdev.nbdev_export()"
   ]
  },
  {
   "cell_type": "code",
   "execution_count": null,
   "id": "9be47ea6",
   "metadata": {},
   "outputs": [],
   "source": []
  }
 ],
 "metadata": {
  "kernelspec": {
   "display_name": "python3",
   "language": "python",
   "name": "python3"
  }
 },
 "nbformat": 4,
 "nbformat_minor": 5
}
