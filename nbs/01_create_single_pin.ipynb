{
 "cells": [
  {
   "cell_type": "code",
   "execution_count": 1,
   "metadata": {},
   "outputs": [],
   "source": [
    "%load_ext autoreload\n",
    "%autoreload 2"
   ]
  },
  {
   "cell_type": "code",
   "execution_count": 2,
   "metadata": {},
   "outputs": [],
   "source": [
    "from pathlib import Path\n",
    "import numpy as np\n",
    "import pandas as pd\n",
    "from fastcore.all import *\n",
    "import cv2\n",
    "from PIL import Image\n",
    "from tqdm.auto import tqdm\n",
    "import matplotlib.pyplot as plt\n",
    "import matplotlib as mpl\n",
    "import shutil"
   ]
  },
  {
   "cell_type": "code",
   "execution_count": 23,
   "metadata": {},
   "outputs": [
    {
     "name": "stderr",
     "output_type": "stream",
     "text": [
      "2024-01-14 15:16:50.041192: E external/local_xla/xla/stream_executor/cuda/cuda_dnn.cc:9261] Unable to register cuDNN factory: Attempting to register factory for plugin cuDNN when one has already been registered\n",
      "2024-01-14 15:16:50.041227: E external/local_xla/xla/stream_executor/cuda/cuda_fft.cc:607] Unable to register cuFFT factory: Attempting to register factory for plugin cuFFT when one has already been registered\n",
      "2024-01-14 15:16:50.041913: E external/local_xla/xla/stream_executor/cuda/cuda_blas.cc:1515] Unable to register cuBLAS factory: Attempting to register factory for plugin cuBLAS when one has already been registered\n",
      "2024-01-14 15:16:50.046944: I tensorflow/core/platform/cpu_feature_guard.cc:182] This TensorFlow binary is optimized to use available CPU instructions in performance-critical operations.\n",
      "To enable the following instructions: AVX2 FMA, in other operations, rebuild TensorFlow with the appropriate compiler flags.\n",
      "2024-01-14 15:16:50.766811: W tensorflow/compiler/tf2tensorrt/utils/py_utils.cc:38] TF-TRT Warning: Could not find TensorRT\n"
     ]
    }
   ],
   "source": [
    "from labeling_test.os_persam import *"
   ]
  },
  {
   "cell_type": "code",
   "execution_count": 38,
   "metadata": {},
   "outputs": [],
   "source": [
    "im_path = Path(r'/home/hasan/Schreibtisch/projects/Infineon/projects/part2/Current_training_data20240111/images')\n",
    "msk_path = Path(r'/home/hasan/Schreibtisch/projects/Infineon/projects/part2/Current_training_data20240111/masks')\n",
    "sn_im_path = Path(r'/home/hasan/Schreibtisch/projects/Infineon/projects/part2/Current_training_data20240111/sn_images')\n",
    "sn_msk_path = Path(r'/home/hasan/Schreibtisch/projects/Infineon/projects/part2/Current_training_data20240111/sn_masks')"
   ]
  },
  {
   "cell_type": "code",
   "execution_count": 10,
   "metadata": {},
   "outputs": [],
   "source": [
    "get_name = np.vectorize(lambda x: Path(x).name)\n",
    "process_name = np.vectorize(lambda x: Path(x).name.replace(' ','_').split('-')[-1])"
   ]
  },
  {
   "cell_type": "code",
   "execution_count": 15,
   "metadata": {},
   "outputs": [],
   "source": [
    "def get_cntrs_part(img):\n",
    "    cntrs,_=cv2.findContours(img, cv2.RETR_EXTERNAL, cv2.CHAIN_APPROX_NONE)\n",
    "    return cntrs\n"
   ]
  },
  {
   "cell_type": "code",
   "execution_count": 35,
   "metadata": {},
   "outputs": [],
   "source": [
    "def get_bbox(\n",
    "    cntr:List[int],\n",
    "    offset: int = 0):\n",
    "    'get bounding box from contour'\n",
    "    bbox = cv2.boundingRect(cntr)\n",
    "    x, y, w, h = bbox\n",
    "    y0=y- offset\n",
    "    y1 = y + h + offset\n",
    "    x0 = x - offset\n",
    "    x1 = x + w + offset\n",
    "    return y0,y1,x0,x1\n"
   ]
  },
  {
   "cell_type": "code",
   "execution_count": 30,
   "metadata": {},
   "outputs": [],
   "source": [
    "cntrs = get_cntrs_part(msk)"
   ]
  },
  {
   "cell_type": "code",
   "execution_count": 36,
   "metadata": {},
   "outputs": [
    {
     "data": {
      "image/png": "[encoded data removed]",
      "text/plain": [
       "<Figure size 640x480 with 1 Axes>"
      ]
     },
     "metadata": {},
     "output_type": "display_data"
    }
   ],
   "source": [
    "bbox = get_bbox(cntrs[0],10)\n",
    "y0,y1,x0,x1 = bbox\n",
    "show_(img[y0:y1,x0:x1])"
   ]
  },
  {
   "cell_type": "code",
   "execution_count": null,
   "metadata": {},
   "outputs": [],
   "source": [
    "img[x, ]"
   ]
  },
  {
   "cell_type": "code",
   "execution_count": 24,
   "metadata": {},
   "outputs": [],
   "source": [
    "for i in cntrs:\n",
    "    x, y, w, h = cv2.boundingRect(i)\n",
    "    "
   ]
  },
  {
   "cell_type": "code",
   "execution_count": 27,
   "metadata": {},
   "outputs": [
    {
     "data": {
      "image/png": "[encoded data removed]",
      "text/plain": [
       "<Figure size 640x480 with 1 Axes>"
      ]
     },
     "metadata": {},
     "output_type": "display_data"
    }
   ],
   "source": [
    "show_(img[y-10:y+h+10, x-10:x+w+10])"
   ]
  },
  {
   "cell_type": "code",
   "execution_count": 42,
   "metadata": {},
   "outputs": [
    {
     "data": {
      "application/vnd.jupyter.widget-view+json": {
       "model_id": "3159714b031c4b46bc0880e06b8dc7e8",
       "version_major": 2,
       "version_minor": 0
      },
      "text/plain": [
       "  0%|          | 0/5300 [00:00<?, ?it/s]"
      ]
     },
     "metadata": {},
     "output_type": "display_data"
    }
   ],
   "source": [
    "for i in tqdm(msk_path.ls()):\n",
    "    msk = cv2.imread(str(i), cv2.IMREAD_GRAYSCALE)\n",
    "    img = cv2.imread(str(im_path/Path(i).name),0)\n",
    "    stem_= Path(i).stem\n",
    "\n",
    "    cntrs = get_cntrs_part(msk)\n",
    "    for idx, cn in enumerate(cntrs):\n",
    "        bbox = get_bbox(cn,10)\n",
    "        y0,y1,x0,x1 = bbox\n",
    "        pin_part = img[y0:y1,x0:x1]\n",
    "        msk_part = msk[y0:y1,x0:x1]\n",
    "        cv2.imwrite(str(sn_im_path/f'{stem_}_{idx}.png'), pin_part)\n",
    "        cv2.imwrite(str(sn_msk_path/f'{stem_}_{idx}.png'), msk_part)\n",
    "\n",
    "\n"
   ]
  },
  {
   "cell_type": "code",
   "execution_count": 11,
   "metadata": {},
   "outputs": [
    {
     "data": {
      "text/plain": [
       "array(['81643675_VFV4.1.5.2_2022123009530888_ID_00149043637816436752250_In_77_r_1_FRONT_Pass_image1.png',\n",
       "       'VFV4.1.8.0_2023042615380543_ID_00001047604816874402313_Out_18_r_1_FRONT_Flying Lead-Img_02.png',\n",
       "       'VFV4.2.0.0_2023041909014580_In_19_DL_Easy_img2_1024_1224_v17_0.8922_Con_r_1_Missing Leadf-Img_02.png',\n",
       "       ..., 'ID_00040045660814717422137_var_90_In_53_self_name.png',\n",
       "       'ID_00710048112813534252041_9000241_mean_20_In_43_self_name.png',\n",
       "       'ID_00955037944810848701827_mean_10_In_17_self_name.png'],\n",
       "      dtype='<U133')"
      ]
     },
     "execution_count": 11,
     "metadata": {},
     "output_type": "execute_result"
    }
   ],
   "source": [
    "get_name(im_path.ls())"
   ]
  },
  {
   "cell_type": "code",
   "execution_count": null,
   "metadata": {},
   "outputs": [],
   "source": []
  }
 ],
 "metadata": {
  "kernelspec": {
   "display_name": "yolo_v8",
   "language": "python",
   "name": "python3"
  },
  "language_info": {
   "codemirror_mode": {
    "name": "ipython",
    "version": 3
   },
   "file_extension": ".py",
   "mimetype": "text/x-python",
   "name": "python",
   "nbconvert_exporter": "python",
   "pygments_lexer": "ipython3",
   "version": "3.10.13"
  }
 },
 "nbformat": 4,
 "nbformat_minor": 2
}
