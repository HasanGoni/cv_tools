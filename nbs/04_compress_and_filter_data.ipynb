{
 "cells": [
  {
   "cell_type": "markdown",
   "metadata": {},
   "source": [
    "# Compress and filter"
   ]
  },
  {
   "cell_type": "markdown",
   "metadata": {},
   "source": [
    "> Compress the data and save them in pyarrow format, so that easy can be transferred and filter them"
   ]
  },
  {
   "cell_type": "code",
   "execution_count": null,
   "metadata": {},
   "outputs": [],
   "source": [
    "#| default_exp compress_and_filter"
   ]
  },
  {
   "cell_type": "code",
   "execution_count": 1,
   "metadata": {},
   "outputs": [],
   "source": [
    "#| export \n",
    "import os\n",
    "from PIL import Image\n",
    "from pathlib import Path\n",
    "import pandas as pd\n",
    "import pyarrow as pa\n",
    "import pyarrow.parquet as pq\n",
    "from typing import Union, List, Tuple, Callable\n",
    "import numpy as np\n",
    "\n",
    "from tqdm.auto import tqdm\n",
    "import os\n",
    "from fastcore.all import *"
   ]
  },
  {
   "cell_type": "code",
   "execution_count": 2,
   "metadata": {},
   "outputs": [],
   "source": [
    "#| export\n",
    "def apply_functions(\n",
    "        fn: Union[Path, str], # Name fo the file\n",
    "        functions:Union[List[Callable], None]=None\n",
    "    ):\n",
    "    'Apply a list of functions to a file'\n",
    "\n",
    "    results = {}\n",
    "    for func in functions:\n",
    "\n",
    "        try:\n",
    "            result = func(fn)\n",
    "\n",
    "            if result is not None:\n",
    "                results[func.__name__] = result\n",
    "        except Exception as e:\n",
    "            print(f'Error in {func.__name__} for {fn}: {e}')\n",
    "    return results"
   ]
  },
  {
   "cell_type": "code",
   "execution_count": null,
   "metadata": {},
   "outputs": [],
   "source": []
  },
  {
   "cell_type": "code",
   "execution_count": null,
   "metadata": {},
   "outputs": [],
   "source": [
    "#| export\n",
    "def convert_images_to_parquet(\n",
    "        image_directory:Union[str, Path],  # directory containing images\n",
    "        output_file:Union[str, Path],      # output parquet file\n",
    "        file_name_func:List[Callable]=None, # functions to apply to the filename\n",
    "        file_exts:str='.png'\n",
    "        ):\n",
    "    ' Convert images in a directory to a parquet file '\n",
    "    images = image_directory.ls(file_exts=file_exts) \n",
    "    n_ims = len(images)\n",
    "\n",
    "    data = []\n",
    "    for i, im in enumerate(tqdm(images, total=n_ims)):\n",
    "        fn = im.name\n",
    "        with Image.open(im) as img:\n",
    "            img_byte_arr = io.BytesIO()\n",
    "            img.save(img_byte_arr, format='PNG')\n",
    "            img_byte_arr = img_byte_arr.getvalue()\n",
    "\n",
    "\n",
    "            # Apply functions to filename and collect metadata\n",
    "            if file_name_func is not None:\n",
    "                metadata = apply_functions(fn, file_name_func)\n",
    "\n",
    "            data_entry = {'filename': fn, 'image_data': img_byte_arr}\n",
    "            if file_name_func is not None:\n",
    "                data_entry.update(metadata)\n",
    "\n",
    "\n",
    "            # Append the binary data and filename to the list\n",
    "            data.append(data_entry)\n",
    "\n",
    "    # Convert the list to a pandas DataFrame\n",
    "    df = pd.DataFrame(data)\n",
    "    table = pa.Table.from_pandas(df)\n",
    "    pq.write_table(table, output_file)"
   ]
  },
  {
   "cell_type": "code",
   "execution_count": null,
   "metadata": {},
   "outputs": [],
   "source": [
    "data_path = os.getenv('DATA_PATH')"
   ]
  },
  {
   "cell_type": "code",
   "execution_count": null,
   "metadata": {},
   "outputs": [
    {
     "data": {
      "application/vnd.jupyter.widget-view+json": {
       "model_id": "97622f6295ad4bb0943d1f91cccdece8",
       "version_major": 2,
       "version_minor": 0
      },
      "text/plain": [
       "  0%|          | 0/1639 [00:00<?, ?it/s]"
      ]
     },
     "metadata": {},
     "output_type": "display_data"
    }
   ],
   "source": [
    "im_src = Path(f'{data_path}/easy_front/Cropped_Images_png')\n",
    "\n",
    "convert_images_to_parquet(im_src, f'{data_path}/easy_front/Cropped_Images.parquet')"
   ]
  },
  {
   "cell_type": "code",
   "execution_count": null,
   "metadata": {},
   "outputs": [],
   "source": [
    "def example_metadata_extractor(filename):\n",
    "    if \"A\" in filename:\n",
    "        return \"A_type_pin\"\n",
    "    return \"B_type_pin\""
   ]
  },
  {
   "cell_type": "code",
   "execution_count": null,
   "metadata": {},
   "outputs": [
    {
     "data": {
      "application/vnd.jupyter.widget-view+json": {
       "model_id": "35d42d2258d74355a4b5e57944e76529",
       "version_major": 2,
       "version_minor": 0
      },
      "text/plain": [
       "  0%|          | 0/1639 [00:00<?, ?it/s]"
      ]
     },
     "metadata": {},
     "output_type": "display_data"
    }
   ],
   "source": [
    "convert_images_to_parquet(im_src, f'{data_path}/easy_front/Cropped_Images.parquet', file_name_func=[example_metadata_extractor])"
   ]
  },
  {
   "cell_type": "code",
   "execution_count": null,
   "metadata": {},
   "outputs": [],
   "source": []
  },
  {
   "cell_type": "code",
   "execution_count": null,
   "metadata": {},
   "outputs": [],
   "source": [
    "#| export\n",
    "def filter_images(parquet_file, condition):\n",
    "    # Load the Parquet file\n",
    "    table = pq.read_table(parquet_file)\n",
    "\n",
    "    # Convert to Pandas DataFrame for easier manipulation\n",
    "    df = table.to_pandas()\n",
    "\n",
    "    # Filter the DataFrame based on a condition\n",
    "    filtered_df = df[df['example_metadata_extractor'].apply(lambda x: condition in x)]\n",
    "\n",
    "    return filtered_df\n"
   ]
  },
  {
   "cell_type": "code",
   "execution_count": null,
   "metadata": {},
   "outputs": [],
   "source": [
    "pin_a_images = filter_images(f'{data_path}/easy_front/Cropped_Images.parquet', 'A_type_pin')"
   ]
  },
  {
   "cell_type": "code",
   "execution_count": null,
   "metadata": {},
   "outputs": [
    {
     "data": {
      "text/html": [
       "<div>\n",
       "<style scoped>\n",
       "    .dataframe tbody tr th:only-of-type {\n",
       "        vertical-align: middle;\n",
       "    }\n",
       "\n",
       "    .dataframe tbody tr th {\n",
       "        vertical-align: top;\n",
       "    }\n",
       "\n",
       "    .dataframe thead th {\n",
       "        text-align: right;\n",
       "    }\n",
       "</style>\n",
       "<table border=\"1\" class=\"dataframe\">\n",
       "  <thead>\n",
       "    <tr style=\"text-align: right;\">\n",
       "      <th></th>\n",
       "      <th>filename</th>\n",
       "      <th>image_data</th>\n",
       "      <th>example_metadata_extractor</th>\n",
       "    </tr>\n",
       "  </thead>\n",
       "  <tbody>\n",
       "    <tr>\n",
       "      <th>0</th>\n",
       "      <td>2_1_CroppedImg_20231018_92536201_5_A.png</td>\n",
       "      <td>b'\\x89PNG\\r\\n\\x1a\\n\\x00\\x00\\x00\\rIHDR\\x00\\x00\\...</td>\n",
       "      <td>A_type_pin</td>\n",
       "    </tr>\n",
       "    <tr>\n",
       "      <th>2</th>\n",
       "      <td>2_1_CroppedImg_20231018_92536201_25_A.png</td>\n",
       "      <td>b'\\x89PNG\\r\\n\\x1a\\n\\x00\\x00\\x00\\rIHDR\\x00\\x00\\...</td>\n",
       "      <td>A_type_pin</td>\n",
       "    </tr>\n",
       "    <tr>\n",
       "      <th>3</th>\n",
       "      <td>2_2_CroppedImg_20231018_92536201_24_A.png</td>\n",
       "      <td>b'\\x89PNG\\r\\n\\x1a\\n\\x00\\x00\\x00\\rIHDR\\x00\\x00\\...</td>\n",
       "      <td>A_type_pin</td>\n",
       "    </tr>\n",
       "    <tr>\n",
       "      <th>5</th>\n",
       "      <td>0_1_CroppedImg_20231018_92042317_7_A.png</td>\n",
       "      <td>b'\\x89PNG\\r\\n\\x1a\\n\\x00\\x00\\x00\\rIHDR\\x00\\x00\\...</td>\n",
       "      <td>A_type_pin</td>\n",
       "    </tr>\n",
       "    <tr>\n",
       "      <th>7</th>\n",
       "      <td>2_2_CroppedImg_20231018_92536201_17_A.png</td>\n",
       "      <td>b'\\x89PNG\\r\\n\\x1a\\n\\x00\\x00\\x00\\rIHDR\\x00\\x00\\...</td>\n",
       "      <td>A_type_pin</td>\n",
       "    </tr>\n",
       "  </tbody>\n",
       "</table>\n",
       "</div>"
      ],
      "text/plain": [
       "                                    filename  \\\n",
       "0   2_1_CroppedImg_20231018_92536201_5_A.png   \n",
       "2  2_1_CroppedImg_20231018_92536201_25_A.png   \n",
       "3  2_2_CroppedImg_20231018_92536201_24_A.png   \n",
       "5   0_1_CroppedImg_20231018_92042317_7_A.png   \n",
       "7  2_2_CroppedImg_20231018_92536201_17_A.png   \n",
       "\n",
       "                                          image_data  \\\n",
       "0  b'\\x89PNG\\r\\n\\x1a\\n\\x00\\x00\\x00\\rIHDR\\x00\\x00\\...   \n",
       "2  b'\\x89PNG\\r\\n\\x1a\\n\\x00\\x00\\x00\\rIHDR\\x00\\x00\\...   \n",
       "3  b'\\x89PNG\\r\\n\\x1a\\n\\x00\\x00\\x00\\rIHDR\\x00\\x00\\...   \n",
       "5  b'\\x89PNG\\r\\n\\x1a\\n\\x00\\x00\\x00\\rIHDR\\x00\\x00\\...   \n",
       "7  b'\\x89PNG\\r\\n\\x1a\\n\\x00\\x00\\x00\\rIHDR\\x00\\x00\\...   \n",
       "\n",
       "  example_metadata_extractor  \n",
       "0                 A_type_pin  \n",
       "2                 A_type_pin  \n",
       "3                 A_type_pin  \n",
       "5                 A_type_pin  \n",
       "7                 A_type_pin  "
      ]
     },
     "execution_count": null,
     "metadata": {},
     "output_type": "execute_result"
    }
   ],
   "source": [
    "pin_a_images.head()"
   ]
  },
  {
   "cell_type": "code",
   "execution_count": null,
   "metadata": {},
   "outputs": [],
   "source": [
    "#| export\n",
    "def binary_to_image(data_entry):\n",
    "    img_data = data_entry['image_data']\n",
    "    img_byte_arr = io.BytesIO(img_data)\n",
    "    img = Image.open(img_byte_arr)\n",
    "    return data_entry['filename'], img"
   ]
  },
  {
   "cell_type": "code",
   "execution_count": null,
   "metadata": {},
   "outputs": [],
   "source": [
    "#| export\n",
    "def read_images_from_parquet(parquet_path, num_workers=16):\n",
    "    # Read the Parquet file\n",
    "    table = pq.read_table(parquet_path)\n",
    "    df = pd.DataFrame(table.to_pandas())\n",
    "    \n",
    "    # Use FastAI's parallel function to process images in parallel\n",
    "    results = parallel(\n",
    "        binary_to_image, \n",
    "        df.to_dict(orient='records'), \n",
    "        n_workers=num_workers,\n",
    "        progress=True\n",
    "\n",
    "        )\n",
    "    \n",
    "    # Convert list of tuples into a dictionary\n",
    "    images = {filename: img for filename, img in results}\n",
    "    return images\n",
    "\n"
   ]
  },
  {
   "cell_type": "code",
   "execution_count": 4,
   "metadata": {},
   "outputs": [],
   "source": [
    "#| export\n",
    "def save_images_to_disk(\n",
    "        images:Tuple[str, Image.Image],  # Tuple of filename and image\n",
    "        output_dir:str # where to save the images\n",
    "        ): \n",
    "    Path(output_dir).mkdir(parents=True, exist_ok=True)\n",
    "    filename, img = images\n",
    "    img.save(Path(output_dir, filename))"
   ]
  },
  {
   "cell_type": "code",
   "execution_count": 5,
   "metadata": {},
   "outputs": [],
   "source": [
    "#| export\n",
    "def decode_batch(\n",
    "        pr_path:str, # parquet file path\n",
    "        batch_size:int=1000, # batch size\n",
    "        num_workers:int=4, # number of workers for parallel processing\n",
    "        output_dir:str=None, # output directory of saved image\n",
    "        )->None:\n",
    "    ' Decode image and in case of output_dir is not None, then save images to path'\n",
    "    table = pq.read_table(pr_path)\n",
    "    df = pd.DataFrame(table.to_pandas())\n",
    "    df_len = len(df)\n",
    "    split_size = df_len//batch_size\n",
    "    df_splits = np.array_split(df, split_size)\n",
    "\n",
    "    def par_save(sn_split,output_dir):\n",
    "\n",
    "        res = parallel(\n",
    "            binary_to_image, \n",
    "            sn_split.to_dict(orient='records'), \n",
    "            n_workers=num_workers,\n",
    "            progress=False\n",
    "        )\n",
    "        \n",
    "        _ = parallel(\n",
    "                        save_images_to_disk, \n",
    "                        res, \n",
    "                        n_workers=num_workers,\n",
    "                        output_dir=Path(output_dir),\n",
    "                        progress=False,\n",
    "                        )\n",
    "\n",
    "\n",
    "    for i, split_df in tqdm(enumerate(df_splits), total=len(df_splits)):\n",
    "\n",
    "        results = parallel(\n",
    "                            binary_to_image, \n",
    "                            split_df.to_dict(orient='records'), \n",
    "                            n_workers=num_workers,\n",
    "                            progress=False\n",
    "\n",
    "        )\n",
    "        if output_dir is not None:\n",
    "            _ = parallel(\n",
    "                        save_images_to_disk, \n",
    "                        results, \n",
    "                        n_workers=num_workers,\n",
    "                        output_dir=Path(output_dir),\n",
    "                        progress=False,\n",
    "                        threadpool=False\n",
    "                        )\n",
    "\n",
    "\n"
   ]
  },
  {
   "cell_type": "code",
   "execution_count": null,
   "metadata": {},
   "outputs": [],
   "source": []
  },
  {
   "cell_type": "code",
   "execution_count": null,
   "metadata": {},
   "outputs": [],
   "source": [
    "#| export\n",
    "# Define a function to save a single image\n",
    "def save_image(data):\n",
    "    filename, image, output_dir = data\n",
    "    # Ensure the image is in the correct format\n",
    "    if image.mode not in ['L']:\n",
    "        image = image.convert('L')\n",
    "    \n",
    "    # Create the full path for the image\n",
    "    file_path = Path(output_dir, filename)\n",
    "    # Save the image\n",
    "    image.save(file_path, format='PNG')  # Adjust format as needed\n"
   ]
  },
  {
   "cell_type": "code",
   "execution_count": 8,
   "metadata": {},
   "outputs": [],
   "source": [
    "#| hide\n",
    "import nbdev\n"
   ]
  },
  {
   "cell_type": "code",
   "execution_count": 9,
   "metadata": {},
   "outputs": [],
   "source": [
    "#| hide\n",
    "nbdev.nbdev_export('04_compress_and_filter_data.ipynb')"
   ]
  },
  {
   "cell_type": "code",
   "execution_count": null,
   "metadata": {},
   "outputs": [],
   "source": []
  }
 ],
 "metadata": {
  "kernelspec": {
   "display_name": "python3",
   "language": "python",
   "name": "python3"
  },
  "language_info": {
   "codemirror_mode": {
    "name": "ipython",
    "version": 3
   },
   "file_extension": ".py",
   "mimetype": "text/x-python",
   "name": "python",
   "nbconvert_exporter": "python",
   "pygments_lexer": "ipython3",
   "version": "3.1.undefined"
  }
 },
 "nbformat": 4,
 "nbformat_minor": 2
}
