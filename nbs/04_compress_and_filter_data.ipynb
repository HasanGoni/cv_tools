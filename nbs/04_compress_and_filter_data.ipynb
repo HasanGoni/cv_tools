{
 "cells": [
  {
   "cell_type": "code",
   "execution_count": null,
   "metadata": {},
   "outputs": [],
   "source": [
    "# Compress and filter"
   ]
  },
  {
   "cell_type": "markdown",
   "metadata": {},
   "source": [
    "> Compress the data and save them in pyarrow format, so that easy can be transferred and filter them"
   ]
  },
  {
   "cell_type": "code",
   "execution_count": 1,
   "metadata": {},
   "outputs": [],
   "source": [
    "#| default_exp compress_and_filter"
   ]
  },
  {
   "cell_type": "code",
   "execution_count": 19,
   "metadata": {},
   "outputs": [],
   "source": [
    "#| export \n",
    "import os\n",
    "from PIL import Image\n",
    "from pathlib import Path\n",
    "import pandas as pd\n",
    "import pyarrow as pa\n",
    "import pyarrow.parquet as pq\n",
    "from typing import Union, List, Tuple, Callable\n",
    "from tqdm.auto import tqdm\n",
    "import os\n",
    "from fastcore.all import *"
   ]
  },
  {
   "cell_type": "code",
   "execution_count": 21,
   "metadata": {},
   "outputs": [],
   "source": [
    "#| export\n",
    "def apply_functions(\n",
    "        fn: Union[Path, str], # Name fo the file\n",
    "        functions:Union[List[Callable], None]=None\n",
    "    ):\n",
    "    'Apply a list of functions to a file'\n",
    "\n",
    "    results = {}\n",
    "    for func in functions:\n",
    "\n",
    "        try:\n",
    "            result = func(fn)\n",
    "\n",
    "            if result is not None:\n",
    "                results[func.__name__] = result\n",
    "        except Exception as e:\n",
    "            print(f'Error in {func.__name__} for {fn}: {e}')\n",
    "    return results"
   ]
  },
  {
   "cell_type": "code",
   "execution_count": null,
   "metadata": {},
   "outputs": [],
   "source": []
  },
  {
   "cell_type": "code",
   "execution_count": 16,
   "metadata": {},
   "outputs": [],
   "source": [
    "#| export\n",
    "def convert_images_to_parquet(\n",
    "        image_directory:Union[str, Path],  # directory containing images\n",
    "        output_file:Union[str, Path],      # output parquet file\n",
    "        file_name_func:List[Callable]=None, # functions to apply to the filename\n",
    "        file_exts:str='.png'\n",
    "        ):\n",
    "    ' Convert images in a directory to a parquet file '\n",
    "    images = image_directory.ls(file_exts=file_exts) \n",
    "    n_ims = len(images)\n",
    "\n",
    "    data = []\n",
    "    for i, im in enumerate(tqdm(images, total=n_ims)):\n",
    "        fn = im.name\n",
    "        with Image.open(im) as img:\n",
    "            img_byte_arr = io.BytesIO()\n",
    "            img.save(img_byte_arr, format='PNG')\n",
    "            img_byte_arr = img_byte_arr.getvalue()\n",
    "\n",
    "\n",
    "            # Apply functions to filename and collect metadata\n",
    "            if file_name_func is not None:\n",
    "                metadata = apply_functions(filename, file_name_func)\n",
    "\n",
    "            data_entry = {'filename': fn, 'image_data': img_byte_arr}\n",
    "            if file_name_func is not None:\n",
    "                data_entry.update(metadata)\n",
    "\n",
    "\n",
    "            # Append the binary data and filename to the list\n",
    "            data.append(data_entry)\n",
    "\n",
    "    # Convert the list to a pandas DataFrame\n",
    "    df = pd.DataFrame(data)\n",
    "    table = pa.Table.from_pandas(df)\n",
    "    pq.write_table(table, output_file)"
   ]
  },
  {
   "cell_type": "code",
   "execution_count": 17,
   "metadata": {},
   "outputs": [],
   "source": [
    "data_path = os.getenv('DATA_PATH')"
   ]
  },
  {
   "cell_type": "code",
   "execution_count": 18,
   "metadata": {},
   "outputs": [
    {
     "data": {
      "application/vnd.jupyter.widget-view+json": {
       "model_id": "97622f6295ad4bb0943d1f91cccdece8",
       "version_major": 2,
       "version_minor": 0
      },
      "text/plain": [
       "  0%|          | 0/1639 [00:00<?, ?it/s]"
      ]
     },
     "metadata": {},
     "output_type": "display_data"
    }
   ],
   "source": [
    "im_src = Path(f'{data_path}/easy_front/Cropped_Images_png')\n",
    "\n",
    "convert_images_to_parquet(im_src, f'{data_path}/easy_front/Cropped_Images.parquet')"
   ]
  },
  {
   "cell_type": "code",
   "execution_count": null,
   "metadata": {},
   "outputs": [],
   "source": []
  }
 ],
 "metadata": {
  "kernelspec": {
   "display_name": "base",
   "language": "python",
   "name": "python3"
  },
  "language_info": {
   "codemirror_mode": {
    "name": "ipython",
    "version": 3
   },
   "file_extension": ".py",
   "mimetype": "text/x-python",
   "name": "python",
   "nbconvert_exporter": "python",
   "pygments_lexer": "ipython3",
   "version": "3.11.5"
  }
 },
 "nbformat": 4,
 "nbformat_minor": 2
}
